{
  "nbformat": 4,
  "nbformat_minor": 0,
  "metadata": {
    "colab": {
      "private_outputs": true,
      "provenance": [],
      "collapsed_sections": [
        "vncDsAP0Gaoa",
        "FJNUwmbgGyua",
        "w6K7xa23Elo4",
        "yQaldy8SH6Dl",
        "PH-0ReGfmX4f",
        "mDgbUHAGgjLW",
        "O_i_v8NEhb9l",
        "HhfV-JJviCcP",
        "Y3lxredqlCYt",
        "3RnN4peoiCZX",
        "x71ZqKXriCWQ",
        "7hBIi_osiCS2",
        "JlHwYmJAmNHm",
        "35m5QtbWiB9F",
        "PoPl-ycgm1ru",
        "H0kj-8xxnORC",
        "nA9Y7ga8ng1Z",
        "PBTbrJXOngz2",
        "u3PMJOP6ngxN",
        "dauF4eBmngu3",
        "bKJF3rekwFvQ",
        "MSa1f5Uengrz",
        "GF8Ens_Soomf",
        "0wOQAZs5pc--",
        "K5QZ13OEpz2H",
        "lQ7QKXXCp7Bj",
        "448CDAPjqfQr",
        "KSlN3yHqYklG",
        "t6dVpIINYklI",
        "ijmpgYnKYklI",
        "-JiQyfWJYklI",
        "EM7whBJCYoAo",
        "fge-S5ZAYoAp",
        "85gYPyotYoAp",
        "RoGjAbkUYoAp",
        "4Of9eVA-YrdM",
        "iky9q4vBYrdO",
        "F6T5p64dYrdO",
        "y-Ehk30pYrdP",
        "bamQiAODYuh1",
        "QHF8YVU7Yuh3",
        "GwzvFGzlYuh3",
        "qYpmQ266Yuh3",
        "OH-pJp9IphqM",
        "bbFf2-_FphqN",
        "_ouA3fa0phqN",
        "Seke61FWphqN",
        "PIIx-8_IphqN",
        "t27r6nlMphqO",
        "r2jJGEOYphqO",
        "b0JNsNcRphqO",
        "BZR9WyysphqO",
        "jj7wYXLtphqO",
        "eZrbJ2SmphqO",
        "rFu4xreNphqO",
        "YJ55k-q6phqO",
        "gCFgpxoyphqP",
        "OVtJsKN_phqQ",
        "lssrdh5qphqQ",
        "U2RJ9gkRphqQ",
        "1M8mcRywphqQ",
        "tgIPom80phqQ",
        "JMzcOPDDphqR",
        "x-EpHcCOp1ci",
        "X_VqEhTip1ck",
        "8zGJKyg5p1ck",
        "PVzmfK_Ep1ck",
        "n3dbpmDWp1ck",
        "ylSl6qgtp1ck",
        "ZWILFDl5p1ck",
        "M7G43BXep1ck",
        "Ag9LCva-p1cl",
        "E6MkPsBcp1cl",
        "2cELzS2fp1cl",
        "3MPXvC8up1cl",
        "NC_X3p0fY2L0",
        "UV0SzAkaZNRQ",
        "YPEH6qLeZNRQ",
        "q29F0dvdveiT",
        "EXh0U9oCveiU",
        "22aHeOlLveiV",
        "JcMwzZxoAimU",
        "8G2x9gOozGDZ",
        "gCX9965dhzqZ",
        "gIfDvo9L0UH2"
      ]
    },
    "kernelspec": {
      "name": "python3",
      "display_name": "Python 3"
    },
    "language_info": {
      "name": "python"
    }
  },
  "cells": [
    {
      "cell_type": "code",
      "source": [],
      "metadata": {
        "id": "I1apcow5dxii"
      },
      "execution_count": null,
      "outputs": []
    },
    {
      "cell_type": "markdown",
      "source": [
        "# **Project Name**    -\n",
        "Bird Observation and Environmental Factors Analysis\n"
      ],
      "metadata": {
        "id": "vncDsAP0Gaoa"
      }
    },
    {
      "cell_type": "markdown",
      "source": [
        "##### **Project Type**    - EDA\n",
        "##### **Contribution**    - Individual\n",
        "name - Nikhar Roy Chaudhuri\n",
        "Batch- 01 june internship Batch"
      ],
      "metadata": {
        "id": "beRrZCGUAJYm"
      }
    },
    {
      "cell_type": "markdown",
      "source": [
        "# **Project Summary -**"
      ],
      "metadata": {
        "id": "FJNUwmbgGyua"
      }
    },
    {
      "cell_type": "markdown",
      "source": [
        "Write the summary here s-This project analyses bird observation data collected from different habitats under varying environmental conditions. Using Exploratory Data Analysis (EDA), we identify patterns in species behaviour, abundance, and environmental correlations. Various visualisations, such as bar charts, radar plots, heatmaps, and pair plots, are used to explore relationships between factors like temperature, humidity, time of day, distance of observation, and activity type. The goal is to extract actionable insights for biodiversity monitoring, habitat management, and ecological conservation.\n"
      ],
      "metadata": {
        "id": "F6v_1wHtG2nS"
      }
    },
    {
      "cell_type": "markdown",
      "source": [
        "# **GitHub Link -**"
      ],
      "metadata": {
        "id": "w6K7xa23Elo4"
      }
    },
    {
      "cell_type": "markdown",
      "source": [
        "Provide your GitHub Link here."
      ],
      "metadata": {
        "id": "h1o69JH3Eqqn"
      }
    },
    {
      "cell_type": "markdown",
      "source": [
        "# **Problem Statement**\n"
      ],
      "metadata": {
        "id": "yQaldy8SH6Dl"
      }
    },
    {
      "cell_type": "markdown",
      "source": [
        "**Write Problem Statement Here.**- Bird populations are key indicators of ecosystem health, but understanding their distribution and activity patterns requires detailed data analysis. The dataset contains species counts, environmental variables, and behavioural observations, but without systematic analysis, it’s challenging to identify meaningful patterns that can guide conservation strategies. The problem is to extract, visualise, and interpret these patterns to support decision-making for wildlife management and research."
      ],
      "metadata": {
        "id": "DpeJGUA3kjGy"
      }
    },
    {
      "cell_type": "markdown",
      "source": [
        "#### **Define Your Business Objective?**"
      ],
      "metadata": {
        "id": "PH-0ReGfmX4f"
      }
    },
    {
      "cell_type": "markdown",
      "source": [
        "Answer Here-The primary business objective is to provide ecologists, conservationists, and environmental planners with data-driven insights into bird species distribution and behaviour. By identifying correlations between environmental conditions and species activity, the analysis can help optimise monitoring schedules, prioritise habitats for protection, and support long-term biodiversity conservation plans. The findings can also assist in educational outreach and policy-making to enhance environmental awareness."
      ],
      "metadata": {
        "id": "PhDvGCAqmjP1"
      }
    },
    {
      "cell_type": "markdown",
      "source": [
        "# **General Guidelines** : -  "
      ],
      "metadata": {
        "id": "mDgbUHAGgjLW"
      }
    },
    {
      "cell_type": "markdown",
      "source": [
        "1.   Well-structured, formatted, and commented code is required.\n",
        "2.   Exception Handling, Production Grade Code & Deployment Ready Code will be a plus. Those students will be awarded some additional credits.\n",
        "     \n",
        "     The additional credits will have advantages over other students during Star Student selection.\n",
        "       \n",
        "             [ Note: - Deployment Ready Code is defined as, the whole .ipynb notebook should be executable in one go\n",
        "                       without a single error logged. ]\n",
        "\n",
        "3.   Each and every logic should have proper comments.\n",
        "4. You may add as many number of charts you want. Make Sure for each and every chart the following format should be answered.\n",
        "        \n",
        "\n",
        "```\n",
        "# Chart visualization code\n",
        "```\n",
        "            \n",
        "\n",
        "*   Why did you pick the specific chart?\n",
        "*   What is/are the insight(s) found from the chart?\n",
        "* Will the gained insights help creating a positive business impact?\n",
        "Are there any insights that lead to negative growth? Justify with specific reason.\n",
        "\n",
        "5. You have to create at least 20 logical & meaningful charts having important insights.\n",
        "\n",
        "\n",
        "[ Hints : - Do the Vizualization in  a structured way while following \"UBM\" Rule.\n",
        "\n",
        "U - Univariate Analysis,\n",
        "\n",
        "B - Bivariate Analysis (Numerical - Categorical, Numerical - Numerical, Categorical - Categorical)\n",
        "\n",
        "M - Multivariate Analysis\n",
        " ]\n",
        "\n",
        "\n",
        "\n"
      ],
      "metadata": {
        "id": "ZrxVaUj-hHfC"
      }
    },
    {
      "cell_type": "markdown",
      "source": [
        "# ***Let's Begin !***"
      ],
      "metadata": {
        "id": "O_i_v8NEhb9l"
      }
    },
    {
      "cell_type": "markdown",
      "source": [
        "## ***1. Know Your Data***"
      ],
      "metadata": {
        "id": "HhfV-JJviCcP"
      }
    },
    {
      "cell_type": "markdown",
      "source": [
        "### Import Libraries"
      ],
      "metadata": {
        "id": "Y3lxredqlCYt"
      }
    },
    {
      "cell_type": "code",
      "source": [
        "# Import Libraries"
      ],
      "metadata": {
        "id": "M8Vqi-pPk-HR"
      },
      "execution_count": null,
      "outputs": []
    },
    {
      "cell_type": "code",
      "source": [
        "# ========== Import Libraries ==========\n",
        "import pandas as pd              # data handling\n",
        "import numpy as np               # numeric helpers\n",
        "import matplotlib.pyplot as plt  # quick charts\n",
        "\n",
        "pd.set_option(\"display.max_columns\", None)      # show all columns\n",
        "pd.set_option(\"display.float_format\", \"{:,.2f}\".format)  # tidy numeric print"
      ],
      "metadata": {
        "id": "bsznKJuTGnyS"
      },
      "execution_count": null,
      "outputs": []
    },
    {
      "cell_type": "markdown",
      "source": [
        "### Dataset Loading"
      ],
      "metadata": {
        "id": "3RnN4peoiCZX"
      }
    },
    {
      "cell_type": "code",
      "source": [
        "# Load Dataset"
      ],
      "metadata": {
        "id": "4CkvbW_SlZ_R"
      },
      "execution_count": null,
      "outputs": []
    },
    {
      "cell_type": "code",
      "source": [
        "# ========== Load Dataset ==========\n",
        "# Reads all sheets from both Excel files, tags ecosystem + sheet and merges to one table.\n",
        "\n",
        "def load_all_sheets(path, ecosystem):\n",
        "    x = pd.read_excel(path, sheet_name=None)           # dict: {sheet_name: DataFrame}\n",
        "    frames = []\n",
        "    for sh, d in x.items():\n",
        "        df = d.copy()\n",
        "        df[\"Ecosystem\"] = ecosystem                    # Forest / Grassland\n",
        "        df[\"Admin_Unit_Sheet\"] = sh                    # remember which sheet it came from\n",
        "        if \"Admin_Unit_Code\" in df.columns:\n",
        "            df[\"Admin_Unit_Code\"] = df[\"Admin_Unit_Code\"].fillna(sh)\n",
        "        else:\n",
        "            df[\"Admin_Unit_Code\"] = sh\n",
        "        frames.append(df)\n",
        "    return pd.concat(frames, ignore_index=True)\n",
        "\n",
        "forest_file = \"Bird_Monitoring_Data_FOREST.XLSX\"\n",
        "grass_file  = \"Bird_Monitoring_Data_GRASSLAND.XLSX\"\n",
        "\n",
        "df = pd.concat([\n",
        "    load_all_sheets(forest_file, \"Forest\"),\n",
        "    load_all_sheets(grass_file,  \"Grassland\")\n",
        "], ignore_index=True)\n",
        "\n",
        "# quick type coercions\n",
        "for c in [\"Date\",\"Start_Time\",\"End_Time\"]:\n",
        "    if c in df.columns: df[c] = pd.to_datetime(df[c], errors=\"coerce\")\n",
        "if \"Year\" in df.columns: df[\"Year\"] = pd.to_numeric(df[\"Year\"], errors=\"coerce\").astype(\"Int64\")\n"
      ],
      "metadata": {
        "id": "iIixMMDrGo8S"
      },
      "execution_count": null,
      "outputs": []
    },
    {
      "cell_type": "markdown",
      "source": [
        "### Dataset First View"
      ],
      "metadata": {
        "id": "x71ZqKXriCWQ"
      }
    },
    {
      "cell_type": "code",
      "source": [
        "# Dataset First Look"
      ],
      "metadata": {
        "id": "LWNFOSvLl09H"
      },
      "execution_count": null,
      "outputs": []
    },
    {
      "cell_type": "code",
      "source": [
        "# ========== Dataset First Look ==========\n",
        "df.head(10)   # quick sanity preview\n"
      ],
      "metadata": {
        "id": "wQGaeEUgG0tX"
      },
      "execution_count": null,
      "outputs": []
    },
    {
      "cell_type": "markdown",
      "source": [
        "### Dataset Rows & Columns count"
      ],
      "metadata": {
        "id": "7hBIi_osiCS2"
      }
    },
    {
      "cell_type": "code",
      "source": [
        "# Dataset Rows & Columns count"
      ],
      "metadata": {
        "id": "Kllu7SJgmLij"
      },
      "execution_count": null,
      "outputs": []
    },
    {
      "cell_type": "code",
      "source": [
        "# ========== Dataset Rows & Columns count ==========\n",
        "rows, cols = df.shape\n",
        "print(f\"Rows: {rows:,}  |  Columns: {cols}\")\n"
      ],
      "metadata": {
        "id": "2b_b2o0zG26f"
      },
      "execution_count": null,
      "outputs": []
    },
    {
      "cell_type": "markdown",
      "source": [
        "### Dataset Information"
      ],
      "metadata": {
        "id": "JlHwYmJAmNHm"
      }
    },
    {
      "cell_type": "code",
      "source": [
        "# Dataset Info"
      ],
      "metadata": {
        "id": "e9hRXRi6meOf"
      },
      "execution_count": null,
      "outputs": []
    },
    {
      "cell_type": "code",
      "source": [
        "# ========== Dataset Rows & Columns count ==========\n",
        "rows, cols = df.shape\n",
        "print(f\"Rows: {rows:,}  |  Columns: {cols}\")\n"
      ],
      "metadata": {
        "id": "5UIlJvKuG9cH"
      },
      "execution_count": null,
      "outputs": []
    },
    {
      "cell_type": "markdown",
      "source": [
        "#### Duplicate Values"
      ],
      "metadata": {
        "id": "35m5QtbWiB9F"
      }
    },
    {
      "cell_type": "code",
      "source": [
        "# Dataset Duplicate Value Count"
      ],
      "metadata": {
        "id": "1sLdpKYkmox0"
      },
      "execution_count": null,
      "outputs": []
    },
    {
      "cell_type": "code",
      "source": [
        "# ========== Dataset Duplicate Value Count ==========\n",
        "dup_count = df.duplicated().sum()             # number of fully duplicated rows\n",
        "print(f\"Duplicate rows found: {dup_count:,}\")\n",
        "if dup_count > 0:\n",
        "    df = df.drop_duplicates().reset_index(drop=True)\n",
        "    print(\"Duplicates removed -> new shape:\", df.shape)\n"
      ],
      "metadata": {
        "id": "uGzG9Qh4HDrc"
      },
      "execution_count": null,
      "outputs": []
    },
    {
      "cell_type": "markdown",
      "source": [
        "#### Missing Values/Null Values"
      ],
      "metadata": {
        "id": "PoPl-ycgm1ru"
      }
    },
    {
      "cell_type": "code",
      "source": [
        "# Missing Values/Null Values Count"
      ],
      "metadata": {
        "id": "GgHWkxvamxVg"
      },
      "execution_count": null,
      "outputs": []
    },
    {
      "cell_type": "code",
      "source": [
        "# ========== Missing Values / Null Values Count ==========\n",
        "na = df.isna().sum().sort_values(ascending=False)\n",
        "missing_table = pd.DataFrame({\n",
        "    \"missing_count\": na,\n",
        "    \"missing_%\": (na/len(df)*100).round(2)\n",
        "})\n",
        "missing_table[missing_table[\"missing_count\"] > 0]"
      ],
      "metadata": {
        "id": "7i-eJuw4HLEt"
      },
      "execution_count": null,
      "outputs": []
    },
    {
      "cell_type": "code",
      "source": [
        "# Visualizing the missing values"
      ],
      "metadata": {
        "id": "3q5wnI3om9sJ"
      },
      "execution_count": null,
      "outputs": []
    },
    {
      "cell_type": "code",
      "source": [
        "# ========== Visualizing the missing values ==========\n",
        "mt = (missing_table[missing_table[\"missing_count\"] > 0]\n",
        "      .sort_values(\"missing_%\"))\n",
        "plt.figure(figsize=(8, max(4, len(mt)*0.25)))\n",
        "plt.barh(mt.index.astype(str), mt[\"missing_%\"])\n",
        "plt.xlabel(\"Missing (%)\"); plt.title(\"Missing Values by Column\")\n",
        "plt.tight_layout(); plt.show()\n"
      ],
      "metadata": {
        "id": "6jkYUjASHMjd"
      },
      "execution_count": null,
      "outputs": []
    },
    {
      "cell_type": "markdown",
      "source": [
        "### What did you know about your dataset?"
      ],
      "metadata": {
        "id": "H0kj-8xxnORC"
      }
    },
    {
      "cell_type": "markdown",
      "source": [
        "Answer Here- The dataset originally contained 17,077 rows and 33 columns, which reduced to 15,372 rows after removing 1,705 duplicate records. It includes a mix of categorical, datetime, integer, and float columns covering location details (e.g., Admin_Unit_Code, Site_Name, Location_Type), observation details (e.g., Date, Start_Time, End_Time, Observer, Interval_Length), bird-related information (Common_Name, Scientific_Name, Sex, Distance), and environmental variables (Temperature, Humidity, Sky, Wind, Disturbance). While most columns are well-populated, some have very high missing values — notably Start_Time and End_Time (100%), Sub_Unit_Code (95%), TaxonCode and Previously_Obs (56%), Site_Name and NPSTaxonCode (44%), and Sex (34%). These missing values will need careful handling, with decisions on whether to drop or impute them depending on analysis needs. Overall, the dataset is rich in observational and environmental details but requires cleaning for high-missing-value columns before deeper analysis."
      ],
      "metadata": {
        "id": "gfoNAAC-nUe_"
      }
    },
    {
      "cell_type": "markdown",
      "source": [
        "## ***2. Understanding Your Variables***"
      ],
      "metadata": {
        "id": "nA9Y7ga8ng1Z"
      }
    },
    {
      "cell_type": "code",
      "source": [
        "# Dataset Columns"
      ],
      "metadata": {
        "id": "j7xfkqrt5Ag5"
      },
      "execution_count": null,
      "outputs": []
    },
    {
      "cell_type": "code",
      "source": [
        " # ===== Dataset Columns =====\n",
        "df.columns  # List all column names in the dataset\n"
      ],
      "metadata": {
        "id": "qLUQbpTFIICv"
      },
      "execution_count": null,
      "outputs": []
    },
    {
      "cell_type": "code",
      "source": [
        "# Dataset Describe"
      ],
      "metadata": {
        "id": "DnOaZdaE5Q5t"
      },
      "execution_count": null,
      "outputs": []
    },
    {
      "cell_type": "code",
      "source": [
        "# ===== Dataset Describe =====\n",
        "df.describe(include='all')  # Summary stats for numeric & categorical columns\n"
      ],
      "metadata": {
        "id": "gI08BsAkIKLj"
      },
      "execution_count": null,
      "outputs": []
    },
    {
      "cell_type": "markdown",
      "source": [
        "### Variables Description"
      ],
      "metadata": {
        "id": "PBTbrJXOngz2"
      }
    },
    {
      "cell_type": "markdown",
      "source": [
        "Answer Here-The dataset contains 29 variables capturing detailed information about bird observations across different sites and conditions:\n",
        "\n",
        "Admin_Unit_Code: Code for the administrative unit of observation (11 unique values, most common “ANTI”).\n",
        "Sub_Unit_Code: Code for the sub-unit within the administrative unit (8 unique values, most common “PISC”).\n",
        "Site_Name: Name of the observation site (70 unique values, most common “CHOH 1”).\n",
        "Plot_Name: Unique plot identifier (609 unique values, most common “ANTI-0163”).\n",
        "Location_Type: Type of habitat (2 unique values, e.g., Forest).\n",
        "Year: Year of observation (2018 in this dataset).\n",
        "Date: Specific observation date.\n",
        "Start_Time & End_Time: Observation start and end times.\n",
        "Observer: Name of the observer (most frequent “Elizabeth Oswald”).\n",
        "Visit: Visit number to the site (1 to 3).\n",
        "Interval_Length: Observation time interval (e.g., “0-2.5 min”).\n",
        "ID_Method: Identification method (e.g., Singing, Calling).\n",
        "Distance: Distance of bird from observer (e.g., “50–100 Meters”).\n",
        "Flyover_Observed: Whether bird was observed flying overhead (TRUE/FALSE).\n",
        "Sex: Sex of observed bird.\n",
        "Common_Name: Common species name.\n",
        "Scientific_Name: Scientific species name.\n",
        "AcceptedTSN, NPSTaxonCode, AOU_Code: Species taxonomic codes.\n",
        "PIF_Watchlist_Status: Partners in Flight Watchlist status (TRUE/FALSE).\n",
        "Regional_Stewardship_Status: Regional conservation priority (TRUE/FALSE).\n",
        "Temperature, Humidity, Sky, Wind, Disturbance: Environmental conditions during observation.\n",
        "Initial_Three_Min_Cnt: Species count in first 3 minutes.\n",
        "Ecosystem, Admin_Unit_Sheet, TaxonCode, Previously_Obs: Additional classification and historical observation details."
      ],
      "metadata": {
        "id": "aJV4KIxSnxay"
      }
    },
    {
      "cell_type": "markdown",
      "source": [
        "### Check Unique Values for each variable."
      ],
      "metadata": {
        "id": "u3PMJOP6ngxN"
      }
    },
    {
      "cell_type": "code",
      "source": [
        "# Check Unique Values for each variable."
      ],
      "metadata": {
        "id": "zms12Yq5n-jE"
      },
      "execution_count": null,
      "outputs": []
    },
    {
      "cell_type": "code",
      "source": [
        "# ===== Check Unique Values for each variable =====\n",
        "unique_values = {col: df[col].nunique() for col in df.columns}\n",
        "unique_df = pd.DataFrame(list(unique_values.items()), columns=[\"Column\", \"Unique_Values\"])\n",
        "unique_df.sort_values(by=\"Unique_Values\", ascending=False)\n"
      ],
      "metadata": {
        "id": "dkdNqHpaI-GQ"
      },
      "execution_count": null,
      "outputs": []
    },
    {
      "cell_type": "markdown",
      "source": [
        "## 3. ***Data Wrangling***"
      ],
      "metadata": {
        "id": "dauF4eBmngu3"
      }
    },
    {
      "cell_type": "markdown",
      "source": [
        "### Data Wrangling Code"
      ],
      "metadata": {
        "id": "bKJF3rekwFvQ"
      }
    },
    {
      "cell_type": "code",
      "source": [
        "# Write your code to make your dataset analysis ready."
      ],
      "metadata": {
        "id": "wk-9a2fpoLcV"
      },
      "execution_count": null,
      "outputs": []
    },
    {
      "cell_type": "code",
      "source": [
        "# ===== Data Wrangling =====\n",
        "\n",
        "# 1. Remove duplicate rows\n",
        "df = df.drop_duplicates().reset_index(drop=True)\n",
        "\n",
        "# 2. Handle missing values\n",
        "# Example: Fill missing categorical values with 'Unknown' and numerical with median\n",
        "categorical_cols = df.select_dtypes(include=['object']).columns\n",
        "numerical_cols = df.select_dtypes(include=['int64', 'float64']).columns\n",
        "\n",
        "df[categorical_cols] = df[categorical_cols].fillna('Unknown')\n",
        "df[numerical_cols] = df[numerical_cols].fillna(df[numerical_cols].median())\n",
        "\n",
        "# 3. Standardize text columns (remove extra spaces & make consistent case)\n",
        "df[categorical_cols] = df[categorical_cols].apply(lambda x: x.str.strip().str.title())\n",
        "\n",
        "# 4. Convert date/time columns to proper datetime format\n",
        "date_cols = ['Date', 'Start_Time', 'End_Time']\n",
        "for col in date_cols:\n",
        "    if col in df.columns:\n",
        "        df[col] = pd.to_datetime(df[col], errors='coerce')\n",
        "\n",
        "# 5. Ensure correct data types\n",
        "df['Year'] = df['Year'].astype('Int64', errors='ignore')\n",
        "if 'Visit' in df.columns:\n",
        "    df['Visit'] = df['Visit'].astype('Int64', errors='ignore')\n",
        "\n",
        "# 6. Remove any irrelevant columns (if needed)\n",
        "# df = df.drop(columns=['Column_To_Remove'], errors='ignore')\n",
        "\n",
        "# 7. Final check after cleaning\n",
        "print(\"Final dataset shape:\", df.shape)\n",
        "print(\"Remaining missing values:\\n\", df.isna().sum())\n"
      ],
      "metadata": {
        "id": "1HJsWO8LJdFh"
      },
      "execution_count": null,
      "outputs": []
    },
    {
      "cell_type": "markdown",
      "source": [
        "### What all manipulations have you done and insights you found?"
      ],
      "metadata": {
        "id": "MSa1f5Uengrz"
      }
    },
    {
      "cell_type": "markdown",
      "source": [
        "Answer Here-The dataset was cleaned by removing duplicates and addressing missing values across multiple columns. Most fields were complete, but Start_Time and End_Time were entirely missing, indicating that time-based analysis might be limited unless supplemented from another source. The Previously_Obs column had a significant number of missing values (6,826 records), which may affect trend detection for repeated sightings. All other columns had no missing values, suggesting strong overall data completeness. The dataset retained 15,372 records across 33 columns after cleaning, ensuring it is well-prepared for species, spatial, and environmental analysis, with only time-related gaps requiring special handling."
      ],
      "metadata": {
        "id": "LbyXE7I1olp8"
      }
    },
    {
      "cell_type": "markdown",
      "source": [
        "## ***4. Data Vizualization, Storytelling & Experimenting with charts : Understand the relationships between variables***"
      ],
      "metadata": {
        "id": "GF8Ens_Soomf"
      }
    },
    {
      "cell_type": "markdown",
      "source": [
        "#### Chart - 1"
      ],
      "metadata": {
        "id": "0wOQAZs5pc--"
      }
    },
    {
      "cell_type": "code",
      "source": [
        "# Chart - 1 visualization code"
      ],
      "metadata": {
        "id": "7v_ESjsspbW7"
      },
      "execution_count": null,
      "outputs": []
    },
    {
      "cell_type": "code",
      "source": [
        "# ===== Chart 1: Average Bird Count by Location Type =====\n",
        "# Shows the average number of birds observed in the first 3 minutes for each location type.\n",
        "\n",
        "import matplotlib.pyplot as plt\n",
        "import pandas as pd\n",
        "\n",
        "# ===== Step 1: Work on a copy of the dataset =====\n",
        "tmp = df.copy()\n",
        "\n",
        "# ===== Step 2: Convert 'Initial_Three_Min_Cnt' to numeric =====\n",
        "# Map booleans/strings to numbers for calculation\n",
        "cnt_map = {True: 1, False: 0, 'TRUE': 1, 'True': 1, 'FALSE': 0, 'False': 0}\n",
        "tmp['Initial_Three_Min_Cnt'] = tmp['Initial_Three_Min_Cnt'].replace(cnt_map)\n",
        "\n",
        "# Convert to numeric (any non-numeric becomes NaN)\n",
        "tmp['Initial_Three_Min_Cnt'] = pd.to_numeric(tmp['Initial_Three_Min_Cnt'], errors='coerce').astype(float)\n",
        "\n",
        "# ===== Step 3: Group by 'Location_Type' and calculate average bird count =====\n",
        "avg_counts = tmp.groupby('Location_Type', observed=True)['Initial_Three_Min_Cnt'].mean().sort_values(ascending=False)\n",
        "\n",
        "# ===== Step 4: Create the bar chart =====\n",
        "plt.figure(figsize=(8,5))\n",
        "avg_counts.plot(kind='bar', color='skyblue', edgecolor='black')\n",
        "\n",
        "# ===== Step 5: Customize chart labels and title =====\n",
        "plt.ylabel(\"Average Bird Count (Initial 3 Min)\")   # Y-axis label\n",
        "plt.xlabel(\"Location Type\")                        # X-axis label\n",
        "plt.title(\"Average Bird Count by Location Type\")   # Chart title\n",
        "\n",
        "# ===== Step 6: Rotate x-axis labels for readability =====\n",
        "plt.xticks(rotation=45, ha='right')\n",
        "\n",
        "# ===== Step 7: Adjust layout and display chart =====\n",
        "plt.tight_layout()\n",
        "plt.show()\n"
      ],
      "metadata": {
        "id": "KAsGdxRiNryd"
      },
      "execution_count": null,
      "outputs": []
    },
    {
      "cell_type": "markdown",
      "source": [
        "##### 1. Why did you pick the specific chart?"
      ],
      "metadata": {
        "id": "K5QZ13OEpz2H"
      }
    },
    {
      "cell_type": "markdown",
      "source": [
        "Answer Here-I chose a bar chart because it clearly compares the average bird count between different location types (Forest vs. Grassland) in a simple and visually intuitive manner. This chart type is ideal for showing differences in average counts across categories without overwhelming the viewer."
      ],
      "metadata": {
        "id": "XESiWehPqBRc"
      }
    },
    {
      "cell_type": "markdown",
      "source": [
        "##### 2. What is/are the insight(s) found from the chart?"
      ],
      "metadata": {
        "id": "lQ7QKXXCp7Bj"
      }
    },
    {
      "cell_type": "markdown",
      "source": [
        "Answer Here-The chart shows that forests have a slightly higher average bird count during the initial 3 minutes of observation compared to grasslands. This suggests that forest environments may provide more favorable conditions or attract more bird species during the start of the observation period."
      ],
      "metadata": {
        "id": "C_j1G7yiqdRP"
      }
    },
    {
      "cell_type": "markdown",
      "source": [
        "##### 3. Will the gained insights help creating a positive business impact?\n",
        "Are there any insights that lead to negative growth? Justify with specific reason."
      ],
      "metadata": {
        "id": "448CDAPjqfQr"
      }
    },
    {
      "cell_type": "markdown",
      "source": [
        "Answer Here-Yes, the insight can help in positive conservation planning by guiding resource allocation toward habitats that show higher bird activity, such as forests. It can also inform ecotourism strategies by identifying biodiversity-rich areas. There are no direct indicators of negative growth, but if grassland bird activity continues to lag, it may signal potential ecological issues in that habitat, requiring intervention."
      ],
      "metadata": {
        "id": "3cspy4FjqxJW"
      }
    },
    {
      "cell_type": "markdown",
      "source": [
        "#### Chart - 2"
      ],
      "metadata": {
        "id": "KSlN3yHqYklG"
      }
    },
    {
      "cell_type": "code",
      "source": [
        "# Chart - 2 visualization code"
      ],
      "metadata": {
        "id": "R4YgtaqtYklH"
      },
      "execution_count": null,
      "outputs": []
    },
    {
      "cell_type": "code",
      "source": [
        "# ===== Chart 2: Species Diversity Share by Location Type (Donut Chart) =====\n",
        "import pandas as pd\n",
        "import matplotlib.pyplot as plt\n",
        "\n",
        "# Step 1: Prepare data\n",
        "tmp = df.copy()\n",
        "tmp[\"Location_Type\"] = tmp[\"Location_Type\"].astype(str).str.strip()\n",
        "tmp[\"Scientific_Name\"] = tmp[\"Scientific_Name\"].astype(str).str.strip()\n",
        "\n",
        "diversity = tmp.groupby(\"Location_Type\", observed=True)[\"Scientific_Name\"].nunique()\n",
        "\n",
        "# Step 2: Plot donut chart\n",
        "plt.figure(figsize=(6,6))\n",
        "colors = plt.cm.Pastel1(range(len(diversity)))\n",
        "\n",
        "wedges, texts, autotexts = plt.pie(\n",
        "    diversity,\n",
        "    labels=diversity.index,\n",
        "    autopct='%1.1f%%',\n",
        "    startangle=90,\n",
        "    colors=colors,\n",
        "    wedgeprops=dict(width=0.4)  # Creates donut hole\n",
        ")\n",
        "\n",
        "plt.setp(autotexts, size=10, weight=\"bold\", color=\"black\")\n",
        "plt.title(\"Share of Species Diversity by Location Type\", fontsize=14)\n",
        "plt.show()\n"
      ],
      "metadata": {
        "id": "yIttfYILOqaQ"
      },
      "execution_count": null,
      "outputs": []
    },
    {
      "cell_type": "markdown",
      "source": [
        "##### 1. Why did you pick the specific chart?"
      ],
      "metadata": {
        "id": "t6dVpIINYklI"
      }
    },
    {
      "cell_type": "markdown",
      "source": [
        "Answer Here-I chose a donut chart because it effectively shows the proportional share of species diversity between forest and grassland locations in a visually engaging way. The hollow center allows the focus to be on the percentage distribution, making it easier to compare the two categories at a glance."
      ],
      "metadata": {
        "id": "5aaW0BYyYklI"
      }
    },
    {
      "cell_type": "markdown",
      "source": [
        "##### 2. What is/are the insight(s) found from the chart?"
      ],
      "metadata": {
        "id": "ijmpgYnKYklI"
      }
    },
    {
      "cell_type": "markdown",
      "source": [
        "Answer Here-The species diversity is almost evenly split between forests (50.2%) and grasslands (49.8%), suggesting that both habitats are equally important for maintaining biodiversity in the study area."
      ],
      "metadata": {
        "id": "PSx9atu2YklI"
      }
    },
    {
      "cell_type": "markdown",
      "source": [
        "##### 3. Will the gained insights help creating a positive business impact?\n",
        "Are there any insights that lead to negative growth? Justify with specific reason."
      ],
      "metadata": {
        "id": "-JiQyfWJYklI"
      }
    },
    {
      "cell_type": "markdown",
      "source": [
        "Answer Here-Yes, the insight can help create a positive impact by guiding balanced conservation efforts and resource allocation for both forest and grassland habitats. There is no indication of negative growth here; instead, the close distribution highlights the need to protect both habitat types equally to sustain biodiversity."
      ],
      "metadata": {
        "id": "BcBbebzrYklV"
      }
    },
    {
      "cell_type": "markdown",
      "source": [
        "#### Chart - 3"
      ],
      "metadata": {
        "id": "EM7whBJCYoAo"
      }
    },
    {
      "cell_type": "code",
      "source": [
        "# ===== Chart 3: Monthly Bird Activity Trend by Ecosystem (Line Chart) =====\n",
        "# Goal: Understand temporal patterns—how bird activity changes across months in Forest vs Grassland.\n",
        "\n",
        "import pandas as pd\n",
        "import numpy as np\n",
        "import matplotlib.pyplot as plt\n",
        "\n",
        "# ----- Step 1: Coerce needed columns -----\n",
        "tmp = df.copy()\n",
        "# Count -> numeric (handle boolean-like values)\n",
        "cnt_map = {True: 1, False: 0, 'TRUE': 1, 'True': 1, 'FALSE': 0, 'False': 0}\n",
        "tmp['Initial_Three_Min_Cnt'] = tmp['Initial_Three_Min_Cnt'].replace(cnt_map)\n",
        "tmp['Initial_Three_Min_Cnt'] = pd.to_numeric(tmp['Initial_Three_Min_Cnt'], errors='coerce').astype(float)\n",
        "\n",
        "# Date -> datetime\n",
        "if 'Date' in tmp.columns:\n",
        "    tmp['Date'] = pd.to_datetime(tmp['Date'], errors='coerce')\n",
        "else:\n",
        "    raise KeyError(\"Required column missing: 'Date'\")\n",
        "\n",
        "# Ecosystem/Location_Type for grouping\n",
        "group_dim = 'Ecosystem' if 'Ecosystem' in tmp.columns else 'Location_Type'\n",
        "if group_dim not in tmp.columns:\n",
        "    raise KeyError(\"Required column missing: 'Ecosystem' or 'Location_Type'\")\n",
        "\n",
        "# ----- Step 2: Derive Year-Month key and aggregate activity -----\n",
        "tmp = tmp.dropna(subset=['Date', 'Initial_Three_Min_Cnt'])\n",
        "tmp['YearMonth'] = tmp['Date'].dt.to_period('M').dt.to_timestamp()\n",
        "\n",
        "# Choose metric: total activity per month (use .sum; switch to .mean() if you want average)\n",
        "monthly = (tmp.groupby([group_dim, 'YearMonth'], observed=True)['Initial_Three_Min_Cnt']\n",
        "             .sum()\n",
        "             .reset_index())\n",
        "\n",
        "# Pivot to wide for separate lines per ecosystem\n",
        "pivot = monthly.pivot(index='YearMonth', columns=group_dim, values='Initial_Three_Min_Cnt').sort_index()\n",
        "\n",
        "# ----- Step 3: Plot line chart -----\n",
        "plt.figure(figsize=(9,5))\n",
        "pivot.plot(ax=plt.gca(), marker='o')  # matplotlib default colors; one line per ecosystem\n",
        "plt.title(\"Monthly Bird Activity Trend by Ecosystem\")\n",
        "plt.xlabel(\"Month\")\n",
        "plt.ylabel(\"Total Bird Count (Initial 3 Min)\")\n",
        "plt.xticks(rotation=45, ha='right')\n",
        "plt.tight_layout()\n",
        "plt.show()\n"
      ],
      "metadata": {
        "id": "t6GMdE67YoAp"
      },
      "execution_count": null,
      "outputs": []
    },
    {
      "cell_type": "markdown",
      "source": [
        "##### 1. Why did you pick the specific chart?"
      ],
      "metadata": {
        "id": "fge-S5ZAYoAp"
      }
    },
    {
      "cell_type": "markdown",
      "source": [
        "Answer Here-I chose a line chart because it is the most effective way to visualize changes in bird activity over time and compare trends between two ecosystems (Forest and Grassland). It clearly shows seasonal fluctuations, allowing us to observe patterns and peak activity months."
      ],
      "metadata": {
        "id": "5dBItgRVYoAp"
      }
    },
    {
      "cell_type": "markdown",
      "source": [
        "##### 2. What is/are the insight(s) found from the chart?"
      ],
      "metadata": {
        "id": "85gYPyotYoAp"
      }
    },
    {
      "cell_type": "markdown",
      "source": [
        "Answer Here-The Forest ecosystem shows a sharp increase in bird activity in June, peaking significantly before dropping in July, while Grassland bird activity remains relatively stable throughout the period. This suggests that forests may experience seasonal bird influxes, possibly due to breeding or migration patterns."
      ],
      "metadata": {
        "id": "4jstXR6OYoAp"
      }
    },
    {
      "cell_type": "markdown",
      "source": [
        "##### 3. Will the gained insights help creating a positive business impact?\n",
        "Are there any insights that lead to negative growth? Justify with specific reason."
      ],
      "metadata": {
        "id": "RoGjAbkUYoAp"
      }
    },
    {
      "cell_type": "markdown",
      "source": [
        "Answer Here-Yes, these insights can help in strategic resource allocation—such as increasing monitoring, conservation efforts, or tourism activities during peak months in forests. There is no direct indication of negative growth, but the sharp drop after June in forests might highlight a need for habitat assessment to sustain bird populations throughout the year.\n",
        "\n"
      ],
      "metadata": {
        "id": "zfJ8IqMcYoAp"
      }
    },
    {
      "cell_type": "markdown",
      "source": [
        "#### Chart - 4"
      ],
      "metadata": {
        "id": "4Of9eVA-YrdM"
      }
    },
    {
      "cell_type": "code",
      "source": [
        "# Chart - 4 visualization code"
      ],
      "metadata": {
        "id": "irlUoxc8YrdO"
      },
      "execution_count": null,
      "outputs": []
    },
    {
      "cell_type": "code",
      "source": [
        "# ===== Chart 4: Distribution of Bird Activity by Identification Method (Boxplot) =====\n",
        "# Goal: Compare the full distribution (median, spread, outliers) of Initial_Three_Min_Cnt\n",
        "#       across different ID methods (e.g., Singing, Calling, Visualization).\n",
        "\n",
        "import pandas as pd\n",
        "import numpy as np\n",
        "import matplotlib.pyplot as plt\n",
        "\n",
        "# ----- Step 1: Prep a safe working copy & coerce types -----\n",
        "tmp = df.copy()\n",
        "\n",
        "# Count -> numeric (handle booleans/strings)\n",
        "cnt_map = {True: 1, False: 0, 'TRUE': 1, 'True': 1, 'FALSE': 0, 'False': 0}\n",
        "tmp['Initial_Three_Min_Cnt'] = tmp['Initial_Three_Min_Cnt'].replace(cnt_map)\n",
        "tmp['Initial_Three_Min_Cnt'] = pd.to_numeric(tmp['Initial_Three_Min_Cnt'], errors='coerce').astype(float)\n",
        "\n",
        "# Choose the grouping variable (ID_Method preferred; fallback to Distance)\n",
        "group_col = 'ID_Method' if 'ID_Method' in tmp.columns else 'Distance'\n",
        "if group_col not in tmp.columns:\n",
        "    raise KeyError(\"Required column missing: 'ID_Method' or 'Distance'\")\n",
        "\n",
        "# Keep only needed rows\n",
        "tmp = tmp[[group_col, 'Initial_Three_Min_Cnt']].dropna()\n",
        "\n",
        "# ----- Step 2: Limit to top-k categories to avoid clutter -----\n",
        "top_k = 5\n",
        "top_vals = (tmp[group_col].value_counts().head(top_k)).index.tolist()\n",
        "tmp = tmp[tmp[group_col].isin(top_vals)]\n",
        "\n",
        "# Order categories by median activity (high -> low)\n",
        "medians = tmp.groupby(group_col)['Initial_Three_Min_Cnt'].median().sort_values(ascending=False)\n",
        "ordered = medians.index.tolist()\n",
        "\n",
        "# Build list of arrays for matplotlib.boxplot\n",
        "data_arrays = [tmp.loc[tmp[group_col] == cat, 'Initial_Three_Min_Cnt'].values for cat in ordered]\n",
        "sizes = tmp[group_col].value_counts().reindex(ordered)\n",
        "\n",
        "# ----- Step 3: Plot boxplot (distribution) -----\n",
        "plt.figure(figsize=(9,5))\n",
        "bp = plt.boxplot(\n",
        "    data_arrays,\n",
        "    labels=[f\"{cat}\\n(n={sizes[cat]})\" for cat in ordered],\n",
        "    showfliers=False,   # hide extreme outliers (optional)\n",
        "    patch_artist=True   # allow facecolor fill\n",
        ")\n",
        "\n",
        "# Optional: lightly tint boxes (matplotlib default colors used)\n",
        "for box in bp['boxes']:\n",
        "    box.set_alpha(0.6)\n",
        "\n",
        "plt.ylabel(\"Bird Count (First 3 Min)\")\n",
        "plt.xlabel(group_col.replace('_',' '))\n",
        "plt.title(\"Distribution of Bird Activity by Identification Method\")\n",
        "plt.xticks(rotation=0, ha='center')\n",
        "plt.tight_layout()\n",
        "plt.show()\n"
      ],
      "metadata": {
        "id": "OyZX9b0MR5tK"
      },
      "execution_count": null,
      "outputs": []
    },
    {
      "cell_type": "markdown",
      "source": [
        "##### 1. Why did you pick the specific chart?"
      ],
      "metadata": {
        "id": "iky9q4vBYrdO"
      }
    },
    {
      "cell_type": "markdown",
      "source": [
        "Answer Here-I chose a boxplot because it effectively displays the distribution, spread, and median of bird counts for each identification method, allowing us to see variation within methods and compare them side by side."
      ],
      "metadata": {
        "id": "aJRCwT6DYrdO"
      }
    },
    {
      "cell_type": "markdown",
      "source": [
        "##### 2. What is/are the insight(s) found from the chart?"
      ],
      "metadata": {
        "id": "F6T5p64dYrdO"
      }
    },
    {
      "cell_type": "markdown",
      "source": [
        "Answer Here-Most identification methods—Singing, Calling, and Visualization—have similar median bird counts close to the maximum possible value in the dataset.\n",
        "There is very little spread in the counts, indicating most observations record the same or very close bird numbers.\n",
        "The Unknown category is negligible (n=2), so it’s not significant for analysis."
      ],
      "metadata": {
        "id": "Xx8WAJvtYrdO"
      }
    },
    {
      "cell_type": "markdown",
      "source": [
        "##### 3. Will the gained insights help creating a positive business impact?\n",
        "Are there any insights that lead to negative growth? Justify with specific reason."
      ],
      "metadata": {
        "id": "y-Ehk30pYrdP"
      }
    },
    {
      "cell_type": "markdown",
      "source": [
        "Answer Here-Positive impact: Knowing that singing and calling detection methods yield consistently high counts can help focus survey efforts on these techniques for more reliable monitoring.\n",
        "Negative impact: The lack of variation in counts may indicate limitations in the data collection method or insufficient sensitivity to detect differences, which could limit deeper ecological insights."
      ],
      "metadata": {
        "id": "jLNxxz7MYrdP"
      }
    },
    {
      "cell_type": "markdown",
      "source": [
        "#### Chart - 5"
      ],
      "metadata": {
        "id": "bamQiAODYuh1"
      }
    },
    {
      "cell_type": "code",
      "source": [
        "# Chart - 5 visualization code"
      ],
      "metadata": {
        "id": "TIJwrbroYuh3"
      },
      "execution_count": null,
      "outputs": []
    },
    {
      "cell_type": "code",
      "source": [
        "# ===== Chart 5: Temperature–Humidity Map colored by Mean Bird Activity (Hexbin) =====\n",
        "# Goal: Understand how bird activity varies across joint environmental conditions.\n",
        "\n",
        "import numpy as np\n",
        "import pandas as pd\n",
        "import matplotlib.pyplot as plt\n",
        "\n",
        "# ---- Step 1: Prepare data & coerce types ----\n",
        "tmp = df.copy()\n",
        "cnt_map = {True: 1, False: 0, 'TRUE': 1, 'True': 1, 'FALSE': 0, 'False': 0}\n",
        "tmp['Initial_Three_Min_Cnt'] = tmp['Initial_Three_Min_Cnt'].replace(cnt_map)\n",
        "\n",
        "for c in ['Initial_Three_Min_Cnt', 'Temperature', 'Humidity']:\n",
        "    tmp[c] = pd.to_numeric(tmp[c], errors='coerce')\n",
        "\n",
        "data = tmp[['Temperature', 'Humidity', 'Initial_Three_Min_Cnt']].dropna()\n",
        "\n",
        "if data.empty:\n",
        "    print(\"Not enough numeric data in Temperature/Humidity/Initial_Three_Min_Cnt to plot.\")\n",
        "else:\n",
        "    # ---- Step 2: Hexbin of Temp vs Humidity, color = mean bird count ----\n",
        "    plt.figure(figsize=(8,5))\n",
        "    hb = plt.hexbin(\n",
        "        data['Temperature'],\n",
        "        data['Humidity'],\n",
        "        C=data['Initial_Three_Min_Cnt'],\n",
        "        reduce_C_function=np.mean,   # color represents mean count in each hex cell\n",
        "        gridsize=25,\n",
        "        mincnt=5,                    # require at least a few points for stability\n",
        "        linewidths=0.2\n",
        "    )\n",
        "    cb = plt.colorbar(hb)\n",
        "    cb.set_label(\"Mean Bird Count (First 3 Min)\")\n",
        "\n",
        "    # ---- Step 3: Labels & layout ----\n",
        "    plt.xlabel(\"Temperature\")\n",
        "    plt.ylabel(\"Humidity\")\n",
        "    plt.title(\"Temperature–Humidity Map colored by Mean Bird Activity\")\n",
        "    plt.tight_layout()\n",
        "    plt.show()\n"
      ],
      "metadata": {
        "id": "fpisC2G9S6Z_"
      },
      "execution_count": null,
      "outputs": []
    },
    {
      "cell_type": "markdown",
      "source": [
        "##### 1. Why did you pick the specific chart?"
      ],
      "metadata": {
        "id": "QHF8YVU7Yuh3"
      }
    },
    {
      "cell_type": "markdown",
      "source": [
        "Answer Here-This hexbin chart displays the relationship between temperature and humidity, with the color intensity representing the mean bird count (first 3 minutes) in each temperature–humidity range. Brighter yellow areas indicate higher mean bird activity, while darker blue areas indicate lower activity."
      ],
      "metadata": {
        "id": "dcxuIMRPYuh3"
      }
    },
    {
      "cell_type": "markdown",
      "source": [
        "##### 2. What is/are the insight(s) found from the chart?"
      ],
      "metadata": {
        "id": "GwzvFGzlYuh3"
      }
    },
    {
      "cell_type": "markdown",
      "source": [
        "Answer Here-Bird activity appears to be higher in moderate temperature ranges (around 20–30°C) combined with relatively high humidity (above ~60%). Very high or very low humidity levels correspond to reduced bird counts. There is no strong activity cluster in extremely hot and dry or cold and dry conditions."
      ],
      "metadata": {
        "id": "uyqkiB8YYuh3"
      }
    },
    {
      "cell_type": "markdown",
      "source": [
        "##### 3. Will the gained insights help creating a positive business impact?\n",
        "Are there any insights that lead to negative growth? Justify with specific reason."
      ],
      "metadata": {
        "id": "qYpmQ266Yuh3"
      }
    },
    {
      "cell_type": "markdown",
      "source": [
        "Answer Here-Understanding the environmental conditions that maximize bird activity can help in planning observation schedules, improving conservation strategies, and predicting when and where birds are likely to be most active. This could guide fieldwork timing for ornithologists and wildlife enthusiasts."
      ],
      "metadata": {
        "id": "_WtzZ_hCYuh4"
      }
    },
    {
      "cell_type": "markdown",
      "source": [
        "#### Chart - 6"
      ],
      "metadata": {
        "id": "OH-pJp9IphqM"
      }
    },
    {
      "cell_type": "code",
      "source": [
        "# Chart - 6 visualization code"
      ],
      "metadata": {
        "id": "kuRf4wtuphqN"
      },
      "execution_count": null,
      "outputs": []
    },
    {
      "cell_type": "code",
      "source": [
        "# ===== Chart 6: Composition of ID Methods by Location Type (100% Stacked Bar) =====\n",
        "# Goal: Compare HOW birds are detected (Singing / Calling / Visualization / Other)\n",
        "#       within each habitat, as percentages (composition).\n",
        "\n",
        "import pandas as pd\n",
        "import numpy as np\n",
        "import matplotlib.pyplot as plt\n",
        "\n",
        "# ----- Step 1: Prep data & tidy categories -----\n",
        "tmp = df.copy()\n",
        "\n",
        "# keep only needed cols\n",
        "need = ['Location_Type', 'ID_Method']\n",
        "for c in need:\n",
        "    if c not in tmp.columns:\n",
        "        raise KeyError(f\"Required column missing: {c}\")\n",
        "\n",
        "tmp = tmp[need].dropna()\n",
        "\n",
        "# standardize text a bit\n",
        "tmp['Location_Type'] = tmp['Location_Type'].astype(str).str.strip().str.title()\n",
        "tmp['ID_Method'] = tmp['ID_Method'].astype(str).str.strip().str.title()\n",
        "\n",
        "# collapse to Top-3 ID methods + 'Other' to keep chart clean\n",
        "top_k = 3\n",
        "top_methods = tmp['ID_Method'].value_counts().head(top_k).index.tolist()\n",
        "tmp['ID_Method_Clean'] = np.where(tmp['ID_Method'].isin(top_methods), tmp['ID_Method'], 'Other')\n",
        "\n",
        "# ----- Step 2: Build 100% stacked table (percent by Location_Type) -----\n",
        "ct = (tmp\n",
        "      .groupby(['Location_Type', 'ID_Method_Clean'], observed=True)\n",
        "      .size()\n",
        "      .unstack(fill_value=0)\n",
        "      .sort_index())\n",
        "\n",
        "percent = ct.div(ct.sum(axis=1), axis=0) * 100  # row-wise percent\n",
        "\n",
        "# ensure a consistent order of stacks (top methods first, then Other)\n",
        "cols_order = [m for m in top_methods if m in percent.columns] + \\\n",
        "             [c for c in percent.columns if c not in top_methods]\n",
        "percent = percent[cols_order]\n",
        "\n",
        "# ----- Step 3: Plot 100% stacked bar -----\n",
        "fig, ax = plt.subplots(figsize=(9,5))\n",
        "\n",
        "bottom = np.zeros(len(percent))\n",
        "x = np.arange(len(percent.index))\n",
        "\n",
        "for col in percent.columns:\n",
        "    ax.bar(x, percent[col].values, bottom=bottom, label=col, edgecolor='black')\n",
        "    bottom += percent[col].values\n",
        "\n",
        "ax.set_xticks(x)\n",
        "ax.set_xticklabels(percent.index, rotation=0)\n",
        "ax.set_ylabel(\"Share of Observations (%)\")\n",
        "ax.set_xlabel(\"Location Type\")\n",
        "ax.set_title(\"Composition of Identification Methods by Location Type (100% Stacked)\")\n",
        "ax.legend(title=\"ID Method\", bbox_to_anchor=(1.02, 1), loc=\"upper left\")\n",
        "ax.set_ylim(0, 100)\n",
        "\n",
        "plt.tight_layout()\n",
        "plt.show()\n"
      ],
      "metadata": {
        "id": "9pSKGbi5UcFM"
      },
      "execution_count": null,
      "outputs": []
    },
    {
      "cell_type": "markdown",
      "source": [
        "##### 1. Why did you pick the specific chart?"
      ],
      "metadata": {
        "id": "bbFf2-_FphqN"
      }
    },
    {
      "cell_type": "markdown",
      "source": [
        "Answer Here-I chose this 100% stacked bar chart because it clearly compares the proportional use of different bird identification methods across two location types (Forest and Grassland), making it easy to see differences in detection patterns between habitats."
      ],
      "metadata": {
        "id": "loh7H2nzphqN"
      }
    },
    {
      "cell_type": "markdown",
      "source": [
        "##### 2. What is/are the insight(s) found from the chart?"
      ],
      "metadata": {
        "id": "_ouA3fa0phqN"
      }
    },
    {
      "cell_type": "markdown",
      "source": [
        "Answer Here-Singing is the dominant identification method in both habitats, making up over 60% of observations.\n",
        "Forests have a significantly higher proportion of Calling-based identifications than Grasslands.\n",
        "Grasslands rely more on Visualization methods than Forests."
      ],
      "metadata": {
        "id": "VECbqPI7phqN"
      }
    },
    {
      "cell_type": "markdown",
      "source": [
        "##### 3. Will the gained insights help creating a positive business impact?\n",
        "Are there any insights that lead to negative growth? Justify with specific reason."
      ],
      "metadata": {
        "id": "Seke61FWphqN"
      }
    },
    {
      "cell_type": "markdown",
      "source": [
        "Answer Here-Yes, these insights can help optimize bird monitoring strategies by tailoring detection methods to habitat type. For example, in Forests, investing in acoustic monitoring tools would be more effective, while in Grasslands, visual survey methods may yield better results. This targeted approach can improve efficiency, reduce resource wastage, and lead to better conservation outcomes. No direct negative growth is indicated, but misallocating resources to less effective detection methods for a given habitat could reduce monitoring accuracy and waste funding."
      ],
      "metadata": {
        "id": "DW4_bGpfphqN"
      }
    },
    {
      "cell_type": "markdown",
      "source": [
        "#### Chart - 7"
      ],
      "metadata": {
        "id": "PIIx-8_IphqN"
      }
    },
    {
      "cell_type": "code",
      "source": [
        "# Chart - 7 visualization code"
      ],
      "metadata": {
        "id": "lqAIGUfyphqO"
      },
      "execution_count": null,
      "outputs": []
    },
    {
      "cell_type": "code",
      "source": [
        "# ===== Chart 7: Monthly Activity Heatmap for Top Species =====\n",
        "# Goal: Show how activity for the most observed species varies across months (temporal patterns).\n",
        "# Note: Uses only matplotlib (no seaborn).\n",
        "\n",
        "import pandas as pd\n",
        "import numpy as np\n",
        "import matplotlib.pyplot as plt\n",
        "\n",
        "# ----- Step 1: Prep and coerce types -----\n",
        "tmp = df.copy()\n",
        "\n",
        "# counts -> numeric\n",
        "cnt_map = {True: 1, False: 0, 'TRUE': 1, 'True': 1, 'FALSE': 0, 'False': 0}\n",
        "tmp['Initial_Three_Min_Cnt'] = tmp['Initial_Three_Min_Cnt'].replace(cnt_map)\n",
        "tmp['Initial_Three_Min_Cnt'] = pd.to_numeric(tmp['Initial_Three_Min_Cnt'], errors='coerce')\n",
        "\n",
        "# choose species name column\n",
        "name_col = 'Common_Name' if 'Common_Name' in tmp.columns else 'Scientific_Name'\n",
        "if name_col not in tmp.columns:\n",
        "    raise KeyError(\"Required column missing: 'Common_Name' or 'Scientific_Name'\")\n",
        "\n",
        "# date -> month label\n",
        "if 'Date' not in tmp.columns:\n",
        "    raise KeyError(\"Required column missing: 'Date'\")\n",
        "tmp['Date'] = pd.to_datetime(tmp['Date'], errors='coerce')\n",
        "tmp = tmp.dropna(subset=['Date', 'Initial_Three_Min_Cnt', name_col])\n",
        "\n",
        "tmp['Month'] = tmp['Date'].dt.to_period('M').dt.to_timestamp()\n",
        "\n",
        "# ----- Step 2: Pick top-N species overall -----\n",
        "top_n = 12\n",
        "top_species = (tmp.groupby(name_col, observed=True)['Initial_Three_Min_Cnt']\n",
        "                 .sum()\n",
        "                 .sort_values(ascending=False)\n",
        "                 .head(top_n)\n",
        "                 .index)\n",
        "\n",
        "sub = tmp[tmp[name_col].isin(top_species)]\n",
        "\n",
        "# ----- Step 3: Build species x month matrix -----\n",
        "pivot = (sub\n",
        "         .groupby([name_col, 'Month'], observed=True)['Initial_Three_Min_Cnt']\n",
        "         .sum()\n",
        "         .unstack(fill_value=0))\n",
        "\n",
        "# order rows by total activity; order columns chronologically\n",
        "pivot = pivot.loc[pivot.sum(axis=1).sort_values(ascending=True).index]  # least at top\n",
        "pivot = pivot.sort_index(axis=1)\n",
        "\n",
        "# convert to numpy array for imshow\n",
        "data = pivot.values\n",
        "\n",
        "# ----- Step 4: Plot heatmap -----\n",
        "fig, ax = plt.subplots(figsize=(10, 6))\n",
        "im = ax.imshow(data, aspect='auto')\n",
        "\n",
        "# axes ticks & labels\n",
        "ax.set_yticks(np.arange(pivot.shape[0]))\n",
        "ax.set_yticklabels(pivot.index)\n",
        "ax.set_xticks(np.arange(pivot.shape[1]))\n",
        "ax.set_xticklabels([pd.to_datetime(c).strftime('%b %Y') for c in pivot.columns], rotation=45, ha='right')\n",
        "\n",
        "ax.set_xlabel(\"Month\")\n",
        "ax.set_ylabel(\"Species\")\n",
        "ax.set_title(f\"Monthly Activity Heatmap for Top {top_n} Species\")\n",
        "\n",
        "# colorbar\n",
        "cbar = plt.colorbar(im, ax=ax)\n",
        "cbar.set_label(\"Total Bird Count (Initial 3 Min)\")\n",
        "\n",
        "plt.tight_layout()\n",
        "plt.show()\n"
      ],
      "metadata": {
        "id": "3k4WVkiCWe41"
      },
      "execution_count": null,
      "outputs": []
    },
    {
      "cell_type": "markdown",
      "source": [
        "##### 1. Why did you pick the specific chart?"
      ],
      "metadata": {
        "id": "t27r6nlMphqO"
      }
    },
    {
      "cell_type": "markdown",
      "source": [
        "Answer Here-I chose a heatmap because it’s ideal for visualizing temporal patterns across multiple species simultaneously. It allows quick identification of seasonal peaks and low-activity periods for each species, which would be harder to detect in traditional bar or line charts."
      ],
      "metadata": {
        "id": "iv6ro40sphqO"
      }
    },
    {
      "cell_type": "markdown",
      "source": [
        "##### 2. What is/are the insight(s) found from the chart?"
      ],
      "metadata": {
        "id": "r2jJGEOYphqO"
      }
    },
    {
      "cell_type": "markdown",
      "source": [
        "Answer Here-Several species, such as the Northern Cardinal and Carolina Wren, show clear spikes in activity during June 2018.\n",
        "Species like Acadian Flycatcher have low counts early in the season but higher activity mid-season.\n",
        "Some species (e.g., Red-Bellied Woodpecker) maintain relatively consistent, lower activity levels throughout the observed months."
      ],
      "metadata": {
        "id": "Po6ZPi4hphqO"
      }
    },
    {
      "cell_type": "markdown",
      "source": [
        "##### 3. Will the gained insights help creating a positive business impact?\n",
        "Are there any insights that lead to negative growth? Justify with specific reason."
      ],
      "metadata": {
        "id": "b0JNsNcRphqO"
      }
    },
    {
      "cell_type": "markdown",
      "source": [
        "Answer Here-Positive impact: Seasonal peaks can guide targeted conservation, birdwatching tourism planning, and educational programs to align with high-activity months for specific species.\n",
        "Negative insight: Low or declining counts for certain species across months could indicate habitat loss or environmental challenges, signaling the need for intervention to prevent further population decline."
      ],
      "metadata": {
        "id": "xvSq8iUTphqO"
      }
    },
    {
      "cell_type": "markdown",
      "source": [
        "#### Chart - 8"
      ],
      "metadata": {
        "id": "BZR9WyysphqO"
      }
    },
    {
      "cell_type": "code",
      "source": [
        "# Chart - 8 visualization code"
      ],
      "metadata": {
        "id": "TdPTWpAVphqO"
      },
      "execution_count": null,
      "outputs": []
    },
    {
      "cell_type": "code",
      "source": [
        "# ===== Chart - 8: Violin Plot of Bird Activity by Location Type =====\n",
        "# Command: Compare full distribution (shape, spread, median) of Initial_Three_Min_Cnt across habitats.\n",
        "\n",
        "import numpy as np\n",
        "import pandas as pd\n",
        "import matplotlib.pyplot as plt\n",
        "\n",
        "# --- Prep: coerce to numeric & filter out extreme outliers ---\n",
        "tmp = df.copy()\n",
        "cnt_map = {True: 1, False: 0, 'TRUE': 1, 'True': 1, 'FALSE': 0, 'False': 0}\n",
        "tmp['Initial_Three_Min_Cnt'] = pd.to_numeric(tmp['Initial_Three_Min_Cnt'].replace(cnt_map), errors='coerce')\n",
        "\n",
        "if 'Location_Type' not in tmp.columns:\n",
        "    raise KeyError(\"Required column missing: 'Location_Type'\")\n",
        "\n",
        "tmp = tmp.dropna(subset=['Initial_Three_Min_Cnt', 'Location_Type'])\n",
        "upper = np.nanpercentile(tmp['Initial_Three_Min_Cnt'], 99)\n",
        "tmp = tmp[tmp['Initial_Three_Min_Cnt'] <= upper]\n",
        "\n",
        "# --- Build data arrays per location type ---\n",
        "cats = sorted(tmp['Location_Type'].astype(str).unique())\n",
        "data = [tmp.loc[tmp['Location_Type'].astype(str) == c, 'Initial_Three_Min_Cnt'].values for c in cats]\n",
        "\n",
        "# --- Plot: violin (distribution) ---\n",
        "plt.figure(figsize=(8,5))\n",
        "parts = plt.violinplot(\n",
        "    dataset=data,\n",
        "    showmeans=False,\n",
        "    showmedians=True,     # show medians\n",
        "    showextrema=False\n",
        ")\n",
        "\n",
        "# Labels & layout\n",
        "plt.xticks(np.arange(1, len(cats)+1), cats, rotation=0)\n",
        "plt.ylabel(\"Bird Count (First 3 Min)\")\n",
        "plt.xlabel(\"Location Type\")\n",
        "plt.title(\"Distribution of Bird Activity by Location Type (Violin Plot)\")\n",
        "plt.grid(axis='y', linestyle=':', alpha=0.4)\n",
        "plt.tight_layout()\n",
        "plt.show()\n"
      ],
      "metadata": {
        "id": "PClkeelmY8kH"
      },
      "execution_count": null,
      "outputs": []
    },
    {
      "cell_type": "markdown",
      "source": [
        "##### 1. Why did you pick the specific chart?"
      ],
      "metadata": {
        "id": "jj7wYXLtphqO"
      }
    },
    {
      "cell_type": "markdown",
      "source": [
        "Answer Here-I chose a violin plot because it visualizes the distribution and density of bird counts in different habitats, showing not just averages but also the spread, peaks, and potential multiple activity levels in forests and grasslands. This helps identify patterns that simple averages or bar charts might miss."
      ],
      "metadata": {
        "id": "Ob8u6rCTphqO"
      }
    },
    {
      "cell_type": "markdown",
      "source": [
        "##### 2. What is/are the insight(s) found from the chart?"
      ],
      "metadata": {
        "id": "eZrbJ2SmphqO"
      }
    },
    {
      "cell_type": "markdown",
      "source": [
        "Answer Here-Both forests and grasslands have a wide range of bird counts, with a large concentration near the lower and upper ends, suggesting variability in observation sessions. The density pattern indicates that while median counts are similar, the shape of distribution is comparable in both habitats, with some extreme observations in both."
      ],
      "metadata": {
        "id": "mZtgC_hjphqO"
      }
    },
    {
      "cell_type": "markdown",
      "source": [
        "##### 3. Will the gained insights help creating a positive business impact?\n",
        "Are there any insights that lead to negative growth? Justify with specific reason."
      ],
      "metadata": {
        "id": "rFu4xreNphqO"
      }
    },
    {
      "cell_type": "markdown",
      "source": [
        "Answer Here-Yes—understanding distribution helps optimize fieldwork strategy. Similar distributions suggest that sampling methods can remain consistent across habitats, while variability awareness helps plan for more balanced observation efforts. There’s no direct negative impact, but ignoring distribution spread could cause biased results and poor planning.\n",
        "\n"
      ],
      "metadata": {
        "id": "ey_0qi68phqO"
      }
    },
    {
      "cell_type": "markdown",
      "source": [
        "#### Chart - 9"
      ],
      "metadata": {
        "id": "YJ55k-q6phqO"
      }
    },
    {
      "cell_type": "code",
      "source": [
        "# Chart - 9 visualization code"
      ],
      "metadata": {
        "id": "B2aS4O1ophqO"
      },
      "execution_count": null,
      "outputs": []
    },
    {
      "cell_type": "code",
      "source": [
        "# ===== Chart 9: Temperature vs Bird Activity with Habitat-Specific Trend =====\n",
        "# Command: Visualize the relationship between Temperature and Initial_Three_Min_Cnt,\n",
        "#          colored by Location_Type, with a quadratic trend line for each habitat.\n",
        "\n",
        "import numpy as np\n",
        "import pandas as pd\n",
        "import matplotlib.pyplot as plt\n",
        "\n",
        "tmp = df.copy()\n",
        "\n",
        "# --- Coerce count to numeric (handle booleans/strings) ---\n",
        "cnt_map = {True: 1, False: 0, 'TRUE': 1, 'True': 1, 'FALSE': 0, 'False': 0}\n",
        "tmp['Initial_Three_Min_Cnt'] = pd.to_numeric(\n",
        "    tmp['Initial_Three_Min_Cnt'].replace(cnt_map), errors='coerce'\n",
        ")\n",
        "\n",
        "# --- Keep required columns and drop NA; clip extreme counts to 99th pct to reduce noise ---\n",
        "need_cols = ['Temperature', 'Initial_Three_Min_Cnt', 'Location_Type']\n",
        "for c in need_cols:\n",
        "    if c not in tmp.columns:\n",
        "        raise KeyError(f\"Required column missing: {c}\")\n",
        "\n",
        "tmp = tmp.dropna(subset=need_cols)\n",
        "upper = np.nanpercentile(tmp['Initial_Three_Min_Cnt'], 99)\n",
        "tmp = tmp[tmp['Initial_Three_Min_Cnt'] <= upper]\n",
        "\n",
        "# --- Plot scatter + quadratic trend per habitat ---\n",
        "habitats = tmp['Location_Type'].astype(str).unique()\n",
        "\n",
        "plt.figure(figsize=(9,6))\n",
        "colors = ['#1f77b4', '#ff7f0e', '#2ca02c', '#9467bd', '#8c564b']  # safe palette\n",
        "\n",
        "for i, hab in enumerate(habitats):\n",
        "    sub = tmp[tmp['Location_Type'].astype(str) == hab]\n",
        "    x = sub['Temperature'].astype(float).values\n",
        "    y = sub['Initial_Three_Min_Cnt'].values\n",
        "\n",
        "    # scatter\n",
        "    plt.scatter(x, y, alpha=0.25, s=18, label=f\"{hab} (points)\", color=colors[i % len(colors)])\n",
        "\n",
        "    # quadratic trend (degree=2)\n",
        "    if len(sub) >= 3:\n",
        "        xs = np.linspace(np.nanmin(x), np.nanmax(x), 200)\n",
        "        coeffs = np.polyfit(x, y, deg=2)\n",
        "        ys = np.polyval(coeffs, xs)\n",
        "        plt.plot(xs, ys, linewidth=2.2, color=colors[i % len(colors)], label=f\"{hab} trend\")\n",
        "\n",
        "plt.xlabel(\"Temperature (°C)\")\n",
        "plt.ylabel(\"Bird Count (First 3 Min)\")\n",
        "plt.title(\"Temperature vs Bird Activity by Habitat with Quadratic Trend\")\n",
        "plt.grid(True, axis='both', linestyle=':', alpha=0.4)\n",
        "plt.legend(frameon=False)\n",
        "plt.tight_layout()\n",
        "plt.show()\n"
      ],
      "metadata": {
        "id": "1fAhYmlWZpv2"
      },
      "execution_count": null,
      "outputs": []
    },
    {
      "cell_type": "markdown",
      "source": [
        "##### 1. Why did you pick the specific chart?"
      ],
      "metadata": {
        "id": "gCFgpxoyphqP"
      }
    },
    {
      "cell_type": "markdown",
      "source": [
        "Answer Here-I chose a scatter plot with habitat-specific quadratic trend lines to show how bird activity in the first three minutes changes with temperature in different environments. The quadratic fit highlights potential non-linear patterns that a simple line might miss, allowing us to see if there are optimal temperature ranges for peak activity in each habitat."
      ],
      "metadata": {
        "id": "TVxDimi2phqP"
      }
    },
    {
      "cell_type": "markdown",
      "source": [
        "##### 2. What is/are the insight(s) found from the chart?"
      ],
      "metadata": {
        "id": "OVtJsKN_phqQ"
      }
    },
    {
      "cell_type": "markdown",
      "source": [
        "Answer Here-In forest habitats, bird activity slightly increases with temperature until a certain point, after which it declines.\n",
        "In grasslands, bird activity shows a slight decrease as temperatures rise, with the highest activity at lower to mid temperatures.\n",
        "Both habitats have more variability in counts at moderate temperatures compared to very high or very low temperatures."
      ],
      "metadata": {
        "id": "ngGi97qjphqQ"
      }
    },
    {
      "cell_type": "markdown",
      "source": [
        "##### 3. Will the gained insights help creating a positive business impact?\n",
        "Are there any insights that lead to negative growth? Justify with specific reason."
      ],
      "metadata": {
        "id": "lssrdh5qphqQ"
      }
    },
    {
      "cell_type": "markdown",
      "source": [
        "Answer Here-Yes, these insights can have a positive impact by helping conservation managers and ecotourism planners schedule birdwatching or monitoring activities during temperature ranges when activity is highest for each habitat. This can improve visitor satisfaction and data collection efficiency.\n",
        "If ignored, unfavorable temperature conditions might lead to lower sightings, potentially reducing engagement in wildlife programs and affecting revenue from eco-tourism or research grants."
      ],
      "metadata": {
        "id": "tBpY5ekJphqQ"
      }
    },
    {
      "cell_type": "markdown",
      "source": [
        "#### Chart - 10"
      ],
      "metadata": {
        "id": "U2RJ9gkRphqQ"
      }
    },
    {
      "cell_type": "code",
      "source": [
        "# Chart - 10 visualization code"
      ],
      "metadata": {
        "id": "GM7a4YP4phqQ"
      },
      "execution_count": null,
      "outputs": []
    },
    {
      "cell_type": "code",
      "source": [
        "# ===== Chart 10: Bubble map of Temperature–Humidity by Habitat =====\n",
        "# Command: Show how observation density and mean activity vary across\n",
        "#          (Temperature, Humidity) space, separately for Forest and Grassland.\n",
        "#          Bubble SIZE = number of observations in the bin,\n",
        "#          Bubble COLOR = mean Initial_Three_Min_Cnt in that bin.\n",
        "\n",
        "import numpy as np\n",
        "import pandas as pd\n",
        "import matplotlib.pyplot as plt\n",
        "\n",
        "tmp = df.copy()\n",
        "\n",
        "# ---- Coerce activity to numeric (handles booleans/strings) ----\n",
        "cnt_map = {True: 1, False: 0, 'TRUE': 1, 'True': 1, 'FALSE': 0, 'False': 0}\n",
        "tmp['Initial_Three_Min_Cnt'] = pd.to_numeric(\n",
        "    tmp['Initial_Three_Min_Cnt'].replace(cnt_map), errors='coerce'\n",
        ")\n",
        "\n",
        "need = ['Temperature', 'Humidity', 'Location_Type', 'Initial_Three_Min_Cnt']\n",
        "for c in need:\n",
        "    if c not in tmp.columns:\n",
        "        raise KeyError(f\"Missing required column: {c}\")\n",
        "tmp = tmp.dropna(subset=need)\n",
        "\n",
        "# ---- Optional: clip extreme temps/humidity for a cleaner view ----\n",
        "tmin, tmax = np.nanpercentile(tmp['Temperature'], [1, 99])\n",
        "hmin, hmax = np.nanpercentile(tmp['Humidity'], [1, 99])\n",
        "tmp = tmp[(tmp['Temperature'].between(tmin, tmax)) & (tmp['Humidity'].between(hmin, hmax))]\n",
        "\n",
        "# ---- Bin the space into a manageable grid ----\n",
        "# (Use 6 x 6 bins; adjust if you want a finer grid)\n",
        "t_bins = np.linspace(tmp['Temperature'].min(), tmp['Temperature'].max(), 7)\n",
        "h_bins = np.linspace(tmp['Humidity'].min(), tmp['Humidity'].max(), 7)\n",
        "\n",
        "tmp['T_bin'] = pd.cut(tmp['Temperature'], bins=t_bins, include_lowest=True)\n",
        "tmp['H_bin'] = pd.cut(tmp['Humidity'], bins=h_bins, include_lowest=True)\n",
        "\n",
        "# Bin centers for plotting\n",
        "t_centers = tmp.groupby('T_bin', observed=True)['Temperature'].mean()\n",
        "h_centers = tmp.groupby('H_bin', observed=True)['Humidity'].mean()\n",
        "\n",
        "# ---- Aggregate: count for bubble size, mean activity for color ----\n",
        "agg = (tmp\n",
        "       .groupby(['Location_Type', 'T_bin', 'H_bin'], observed=True)\n",
        "       .agg(n=('Initial_Three_Min_Cnt', 'size'),\n",
        "            mean_cnt=('Initial_Three_Min_Cnt', 'mean'))\n",
        "       .reset_index())\n",
        "\n",
        "# Map bin labels to numerical centers\n",
        "agg['T_center'] = agg['T_bin'].map(t_centers)\n",
        "agg['H_center'] = agg['H_bin'].map(h_centers)\n",
        "\n",
        "# ---- Plot: two panels, one per habitat ----\n",
        "habitats = sorted(agg['Location_Type'].astype(str).unique())\n",
        "n_panels = len(habitats)\n",
        "\n",
        "fig, axes = plt.subplots(1, n_panels, figsize=(12, 5), sharex=True, sharey=True)\n",
        "\n",
        "if n_panels == 1:\n",
        "    axes = [axes]\n",
        "\n",
        "for ax, hab in zip(axes, habitats):\n",
        "    sub = agg[agg['Location_Type'].astype(str) == hab]\n",
        "\n",
        "    # Scale bubble size (area) by observation count\n",
        "    # Add a small offset so tiny bins are still visible\n",
        "    s = (sub['n'].values / sub['n'].max()) * 800 + 30\n",
        "\n",
        "    sc = ax.scatter(\n",
        "        sub['T_center'].values,\n",
        "        sub['H_center'].values,\n",
        "        s=s,\n",
        "        c=sub['mean_cnt'].values,  # color encodes mean activity\n",
        "        alpha=0.8\n",
        "    )\n",
        "\n",
        "    ax.set_title(hab)\n",
        "    ax.set_xlabel(\"Temperature (°C)\")\n",
        "    ax.set_ylabel(\"Humidity\")\n",
        "\n",
        "# Colorbar for mean activity\n",
        "cbar = fig.colorbar(sc, ax=axes, shrink=0.9)\n",
        "cbar.set_label(\"Mean Bird Count (First 3 Min)\")\n",
        "\n",
        "fig.suptitle(\"Bubble Map: Temp–Humidity Space by Habitat\\nSize = # Observations, Color = Mean Activity\", y=1.02)\n",
        "plt.tight_layout()\n",
        "plt.show()\n"
      ],
      "metadata": {
        "id": "7IgBNISmbDd_"
      },
      "execution_count": null,
      "outputs": []
    },
    {
      "cell_type": "markdown",
      "source": [
        "##### 1. Why did you pick the specific chart?"
      ],
      "metadata": {
        "id": "1M8mcRywphqQ"
      }
    },
    {
      "cell_type": "markdown",
      "source": [
        "Answer Here-I chose a bubble map because it effectively displays three dimensions of data at once — temperature (x-axis), humidity (y-axis), and bird activity (color), while also showing observation density (bubble size). This multi-variable visualization allows quick detection of habitat-specific environmental conditions that influence bird activity."
      ],
      "metadata": {
        "id": "8agQvks0phqQ"
      }
    },
    {
      "cell_type": "markdown",
      "source": [
        "##### 2. What is/are the insight(s) found from the chart?"
      ],
      "metadata": {
        "id": "tgIPom80phqQ"
      }
    },
    {
      "cell_type": "markdown",
      "source": [
        "Answer Here-In both forest and grassland habitats, bird activity tends to be higher in moderate temperature and humidity ranges.\n",
        "Larger bubbles in the mid-temperature (18°C–24°C) and mid-to-high humidity ranges indicate more frequent observations under these conditions.\n",
        "Forest habitats show slightly higher mean activity (color) at higher humidity, while grasslands show more consistent activity across a broader humidity range."
      ],
      "metadata": {
        "id": "Qp13pnNzphqQ"
      }
    },
    {
      "cell_type": "markdown",
      "source": [
        "##### 3. Will the gained insights help creating a positive business impact?\n",
        "Are there any insights that lead to negative growth? Justify with specific reason."
      ],
      "metadata": {
        "id": "JMzcOPDDphqR"
      }
    },
    {
      "cell_type": "markdown",
      "source": [
        "Answer Here-Yes, these insights can have a positive impact. For example, if the goal is to optimize birdwatching tours, habitat restoration, or environmental research, knowing the temperature–humidity “sweet spots” for activity can guide scheduling, marketing, or conservation actions.\n",
        "There is no direct negative growth insight, but ignoring environmental ranges where bird activity is lower (e.g., extreme temperatures or very low humidity) could result in inefficient resource allocation."
      ],
      "metadata": {
        "id": "R4Ka1PC2phqR"
      }
    },
    {
      "cell_type": "markdown",
      "source": [
        "#### Chart - 11"
      ],
      "metadata": {
        "id": "x-EpHcCOp1ci"
      }
    },
    {
      "cell_type": "code",
      "source": [
        "# Chart - 11 visualization code"
      ],
      "metadata": {
        "id": "mAQTIvtqp1cj"
      },
      "execution_count": null,
      "outputs": []
    },
    {
      "cell_type": "code",
      "source": [
        "# ===== Chart 11: Pareto of Observer Contributions =====\n",
        "# Command: Show which observers contribute the most activity.\n",
        "#          Bars = total bird activity recorded by each observer (descending),\n",
        "#          Line = cumulative percentage of total (Pareto curve).\n",
        "#          Insight: concentration of effort / potential observer bias.\n",
        "\n",
        "import pandas as pd\n",
        "import numpy as np\n",
        "import matplotlib.pyplot as plt\n",
        "\n",
        "tmp = df.copy()\n",
        "\n",
        "# Coerce activity to numeric and treat values > 0 as activity count units\n",
        "cnt_map = {True: 1, False: 0, 'TRUE': 1, 'True': 1, 'FALSE': 0, 'False': 0}\n",
        "tmp['Initial_Three_Min_Cnt'] = pd.to_numeric(\n",
        "    tmp['Initial_Three_Min_Cnt'].replace(cnt_map), errors='coerce'\n",
        ")\n",
        "\n",
        "# Keep required columns, drop missing\n",
        "need_cols = ['Observer', 'Initial_Three_Min_Cnt']\n",
        "tmp = tmp[need_cols].dropna()\n",
        "\n",
        "# Aggregate total activity per observer\n",
        "obs_sum = (tmp.groupby('Observer', as_index=False)['Initial_Three_Min_Cnt']\n",
        "           .sum()\n",
        "           .rename(columns={'Initial_Three_Min_Cnt': 'total_activity'}))\n",
        "\n",
        "# Sort descending and compute cumulative %\n",
        "obs_sum = obs_sum.sort_values('total_activity', ascending=False).reset_index(drop=True)\n",
        "obs_sum['cum_pct'] = obs_sum['total_activity'].cumsum() / obs_sum['total_activity'].sum() * 100\n",
        "\n",
        "# (Optional) focus on top N observers for readability\n",
        "N = 20\n",
        "top_obs = obs_sum.head(N)\n",
        "\n",
        "# --- Plot: Pareto (bars + cumulative % line on secondary axis) ---\n",
        "fig, ax1 = plt.subplots(figsize=(12, 6))\n",
        "\n",
        "# Bars\n",
        "bars = ax1.bar(range(len(top_obs)), top_obs['total_activity'])\n",
        "ax1.set_xlabel('Observer (Top {0})'.format(N))\n",
        "ax1.set_ylabel('Total Bird Activity (Initial 3 Min)')\n",
        "ax1.set_xticks(range(len(top_obs)))\n",
        "ax1.set_xticklabels(top_obs['Observer'], rotation=45, ha='right')\n",
        "\n",
        "# Cumulative % line\n",
        "ax2 = ax1.twinx()\n",
        "ax2.plot(range(len(top_obs)), top_obs['cum_pct'], marker='o')\n",
        "ax2.set_ylabel('Cumulative % of Total Activity')\n",
        "ax2.set_ylim(0, 110)\n",
        "ax2.axhline(80, linestyle='--')  # 80/20 reference line\n",
        "\n",
        "plt.title('Pareto Analysis: Observer Contribution to Total Bird Activity')\n",
        "plt.tight_layout()\n",
        "plt.show()\n"
      ],
      "metadata": {
        "id": "ejzKTsaxcrl1"
      },
      "execution_count": null,
      "outputs": []
    },
    {
      "cell_type": "markdown",
      "source": [
        "##### 1. Why did you pick the specific chart?"
      ],
      "metadata": {
        "id": "X_VqEhTip1ck"
      }
    },
    {
      "cell_type": "markdown",
      "source": [
        "Answer Here-I chose a Pareto chart because it effectively highlights the “vital few” observers contributing the majority of bird activity records. This makes it easier to identify potential biases in the dataset and understand where observation efforts are most concentrated."
      ],
      "metadata": {
        "id": "-vsMzt_np1ck"
      }
    },
    {
      "cell_type": "markdown",
      "source": [
        "##### 2. What is/are the insight(s) found from the chart?"
      ],
      "metadata": {
        "id": "8zGJKyg5p1ck"
      }
    },
    {
      "cell_type": "markdown",
      "source": [
        "Answer Here-A small number of observers (Elizabeth Oswald, Kimberly Serno, and Brian Swimelar) account for nearly all bird activity records.\n",
        "The cumulative percentage curve shows that the top two observers alone contribute over 80% of the total recorded activity, indicating a high concentration of observations among a few individuals."
      ],
      "metadata": {
        "id": "ZYdMsrqVp1ck"
      }
    },
    {
      "cell_type": "markdown",
      "source": [
        "##### 3. Will the gained insights help creating a positive business impact?\n",
        "Are there any insights that lead to negative growth? Justify with specific reason."
      ],
      "metadata": {
        "id": "PVzmfK_Ep1ck"
      }
    },
    {
      "cell_type": "markdown",
      "source": [
        "Answer Here-Positive Impact:\n",
        "These insights can guide resource allocation and training by showing which observers are most active. Organizations could leverage the expertise of top contributors to mentor others, improving data quality and coverage.\n",
        "Negative Impact Risk:\n",
        "Heavy reliance on a small group of observers can create bias in spatial or temporal coverage, potentially skewing research conclusions. If these few observers stop contributing, the volume and diversity of data could decline significantly. Diversifying observer participation is crucial to mitigate this risk."
      ],
      "metadata": {
        "id": "druuKYZpp1ck"
      }
    },
    {
      "cell_type": "markdown",
      "source": [
        "#### Chart - 12"
      ],
      "metadata": {
        "id": "n3dbpmDWp1ck"
      }
    },
    {
      "cell_type": "code",
      "source": [
        "# Chart - 12 visualization code"
      ],
      "metadata": {
        "id": "bwevp1tKp1ck"
      },
      "execution_count": null,
      "outputs": []
    },
    {
      "cell_type": "code",
      "source": [
        "# ===== Chart 12: Rose Diagram (Polar Bar) — Bird Activity by Hour of Day (robust) =====\n",
        "import pandas as pd\n",
        "import numpy as np\n",
        "import matplotlib.pyplot as plt\n",
        "\n",
        "tmp = df.copy()\n",
        "\n",
        "# 1) Safe numeric conversion for Initial_Three_Min_Cnt (handles True/False/'TRUE'/'False'/etc.)\n",
        "bool_map = {True: 1, False: 0, 'TRUE': 1, 'True': 1, 'FALSE': 0, 'False': 0}\n",
        "# try mapping booleans first, then numeric coerce\n",
        "col = tmp['Initial_Three_Min_Cnt'].map(bool_map).where(\n",
        "    tmp['Initial_Three_Min_Cnt'].isin(bool_map), other=tmp['Initial_Three_Min_Cnt']\n",
        ")\n",
        "tmp['Initial_Three_Min_Cnt'] = pd.to_numeric(col, errors='coerce')\n",
        "\n",
        "# 2) Extract hour from Start_Time\n",
        "tmp['Start_Time'] = pd.to_datetime(tmp['Start_Time'], errors='coerce')\n",
        "tmp = tmp.dropna(subset=['Start_Time'])\n",
        "tmp['hour'] = tmp['Start_Time'].dt.hour\n",
        "\n",
        "# 3) Primary metric: mean Initial_Three_Min_Cnt by hour\n",
        "hourly_mean = tmp.groupby('hour')['Initial_Three_Min_Cnt'].mean()\n",
        "\n",
        "# 4) Fallback if all-NaN: use normalized hourly counts instead (new content but still “activity by hour”)\n",
        "if hourly_mean.notna().sum() == 0:\n",
        "    hourly_counts = tmp.groupby('hour').size().reindex(range(24), fill_value=0).astype(float)\n",
        "    # normalize to 0–1 so the rose shape is visible regardless of dataset size\n",
        "    if (hourly_counts.max() - hourly_counts.min()) > 0:\n",
        "        hourly_values = (hourly_counts - hourly_counts.min()) / (hourly_counts.max() - hourly_counts.min())\n",
        "    else:\n",
        "        hourly_values = hourly_counts / (hourly_counts.max() if hourly_counts.max() != 0 else 1.0)\n",
        "else:\n",
        "    hourly_values = hourly_mean.reindex(range(24), fill_value=np.nan)\n",
        "\n",
        "# Ensure finite numbers for plotting\n",
        "r = np.nan_to_num(hourly_values.values, nan=0.0)\n",
        "\n",
        "# 5) Build polar bars\n",
        "theta = np.linspace(0.0, 2*np.pi, 24, endpoint=False)\n",
        "width = 2*np.pi / 24\n",
        "\n",
        "plt.figure(figsize=(8, 8))\n",
        "ax = plt.subplot(111, polar=True)\n",
        "bars = ax.bar(theta, r, width=width, align='edge', edgecolor='white')\n",
        "\n",
        "# Color scale based on height (avoid all-NaN / all-zero issues)\n",
        "den = r.max() if r.max() > 0 else 1.0\n",
        "for b, val in zip(bars, r):\n",
        "    b.set_facecolor(plt.cm.Blues(0.3 + 0.7*(val/den)))\n",
        "\n",
        "ax.set_theta_direction(-1)            # clockwise\n",
        "ax.set_theta_offset(np.pi/2)          # start at top (midnight)\n",
        "ax.set_xticks(theta)                  # hour ticks\n",
        "ax.set_xticklabels([f'{h:02d}:00' for h in range(24)], fontsize=8)\n",
        "ax.set_yticklabels([])                # hide radial labels\n",
        "ax.grid(alpha=0.3)\n",
        "\n",
        "title_metric = \"mean Initial_Three_Min_Cnt\" if hourly_mean.notna().sum() > 0 else \"normalized hourly observation count\"\n",
        "plt.title(f'Rose Diagram: Bird Activity by Hour of Day\\n(metric: {title_metric})', y=1.08)\n",
        "plt.tight_layout()\n",
        "plt.show()\n"
      ],
      "metadata": {
        "id": "bxxX4KdageC6"
      },
      "execution_count": null,
      "outputs": []
    },
    {
      "cell_type": "markdown",
      "source": [
        "##### 1. Why did you pick the specific chart?"
      ],
      "metadata": {
        "id": "ylSl6qgtp1ck"
      }
    },
    {
      "cell_type": "markdown",
      "source": [
        "Answer Here-This rose diagram displays bird observation activity distributed across the 24 hours of the day, using a normalized hourly observation count. Each bar’s length represents relative activity for that hour, arranged in a circular, clock-like layout to emphasize daily cycles."
      ],
      "metadata": {
        "id": "m2xqNkiQp1ck"
      }
    },
    {
      "cell_type": "markdown",
      "source": [
        "##### 2. What is/are the insight(s) found from the chart?"
      ],
      "metadata": {
        "id": "ZWILFDl5p1ck"
      }
    },
    {
      "cell_type": "markdown",
      "source": [
        "Answer Here-All bars are absent, meaning the dataset had no valid time-based activity records after processing — suggesting either missing Start_Time values or no recorded observations in the processed file.\n",
        "The result highlights a possible data quality issue rather than an actual pattern in bird activity."
      ],
      "metadata": {
        "id": "x-lUsV2mp1ck"
      }
    },
    {
      "cell_type": "markdown",
      "source": [
        "##### 3. Will the gained insights help creating a positive business impact?\n",
        "Are there any insights that lead to negative growth? Justify with specific reason."
      ],
      "metadata": {
        "id": "M7G43BXep1ck"
      }
    },
    {
      "cell_type": "markdown",
      "source": [
        "Answer Here-No — in its current form, the chart provides no actionable insight because the rose diagram is empty. This outcome points to missing or improperly processed time data rather than an actual pattern of bird activity. However, the indirect benefit is that it highlights a data quality gap that can be addressed, which in turn will improve the reliability of future analyses and reports.\n",
        "Are there any insights that lead to negative growth? Justify with a specific reason.\n",
        "Yes — the absence of data here could lead to negative growth if ignored. Specifically:\n",
        "\n",
        "Field survey schedules or resource allocation decisions based on incomplete time data could result in missed peak activity periods, lowering survey efficiency and accuracy.\n",
        "It reflects data management inefficiency, which can delay insights delivery, reduce stakeholder confidence, and potentially lead to misinformed operational or conservation decisions."
      ],
      "metadata": {
        "id": "5wwDJXsLp1cl"
      }
    },
    {
      "cell_type": "markdown",
      "source": [
        "#### Chart - 13"
      ],
      "metadata": {
        "id": "Ag9LCva-p1cl"
      }
    },
    {
      "cell_type": "code",
      "source": [
        "# Chart - 13 visualization code"
      ],
      "metadata": {
        "id": "EUfxeq9-p1cl"
      },
      "execution_count": null,
      "outputs": []
    },
    {
      "cell_type": "code",
      "source": [
        "# ============================== Chart – 13: Radar (Spider) Chart ==============================\n",
        "# Compare key metrics between Forest and Grassland in one view\n",
        "\n",
        "import numpy as np\n",
        "import pandas as pd\n",
        "import matplotlib.pyplot as plt\n",
        "\n",
        "# --- Helpers / cleaning used just for this chart ---\n",
        "tmp = df.copy()\n",
        "\n",
        "# Initial_Three_Min_Cnt may be bool/strings; coerce to numeric\n",
        "bool_map = {True: 1, False: 0, 'TRUE': 1, 'FALSE': 0, 'True': 1, 'False': 0}\n",
        "tmp['Initial_Three_Min_Cnt'] = (\n",
        "    pd.to_numeric(tmp['Initial_Three_Min_Cnt'].replace(bool_map), errors='coerce')\n",
        ")\n",
        "\n",
        "# Normalize some text columns to avoid tiny spelling variants\n",
        "for c in ['Location_Type','ID_Method','Distance','Flyover_Observed']:\n",
        "    if c in tmp:\n",
        "        tmp[c] = tmp[c].astype(str).str.strip().str.title()\n",
        "\n",
        "# Keep only the two location types we’re comparing\n",
        "tmp = tmp[tmp['Location_Type'].isin(['Forest','Grassland'])].copy()\n",
        "\n",
        "def share(series, mask):\n",
        "    denom = series.shape[0]\n",
        "    return float(mask.sum())/denom if denom else np.nan\n",
        "\n",
        "# --- Build KPIs per habitat ---\n",
        "kpis = []\n",
        "for habitat, g in tmp.groupby('Location_Type'):\n",
        "    kpis.append({\n",
        "        'Habitat': habitat,\n",
        "        'Avg Bird Count (Initial 3 Min)': g['Initial_Three_Min_Cnt'].mean(skipna=True),\n",
        "        '% Singing': share(g['ID_Method'], g['ID_Method'].eq('Singing')),\n",
        "        '% Calling': share(g['ID_Method'], g['ID_Method'].eq('Calling')),\n",
        "        '% Visualization': share(g['ID_Method'], g['ID_Method'].str.contains('Visual', na=False)),\n",
        "        '% Flyover': share(g['Flyover_Observed'], g['Flyover_Observed'].isin(['True','Yes'])),\n",
        "        '% ≤50m Distance': share(g['Distance'], g['Distance'].str.contains('<= 50', na=False))\n",
        "    })\n",
        "\n",
        "radar_df = pd.DataFrame(kpis).set_index('Habitat')\n",
        "\n",
        "# Scale metrics to 0–1 so different units fit on one radar\n",
        "scaled = radar_df.copy()\n",
        "scaled['Avg Bird Count (Initial 3 Min)'] = scaled['Avg Bird Count (Initial 3 Min)'] / scaled['Avg Bird Count (Initial 3 Min)'].max()\n",
        "\n",
        "# Radar categories (order you want them to appear around the circle)\n",
        "cats = [\n",
        "    'Avg Bird Count (Initial 3 Min)',\n",
        "    '% Singing',\n",
        "    '% Calling',\n",
        "    '% Visualization',\n",
        "    '% Flyover',\n",
        "    '% ≤50m Distance'\n",
        "]\n",
        "\n",
        "# Close the radar loop by repeating first angle/value at the end\n",
        "angles = np.linspace(0, 2*np.pi, len(cats), endpoint=False).tolist()\n",
        "angles += angles[:1]\n",
        "\n",
        "def values_for(hab):\n",
        "    vals = scaled.loc[hab, cats].values.astype(float).tolist()\n",
        "    return vals + vals[:1]\n",
        "\n",
        "forest_vals = values_for('Forest') if 'Forest' in scaled.index else None\n",
        "grass_vals = values_for('Grassland') if 'Grassland' in scaled.index else None\n",
        "\n",
        "# --- Plot ---\n",
        "plt.figure(figsize=(8, 8))\n",
        "ax = plt.subplot(111, polar=True)\n",
        "\n",
        "ax.set_theta_offset(np.pi / 2)\n",
        "ax.set_theta_direction(-1)\n",
        "\n",
        "ax.set_xticks(angles[:-1])\n",
        "ax.set_xticklabels(cats, fontsize=10)\n",
        "\n",
        "ax.set_rlabel_position(0)\n",
        "ax.set_yticks([0.25, 0.5, 0.75, 1.0])\n",
        "ax.set_yticklabels(['0.25','0.50','0.75','1.00'], fontsize=9)\n",
        "ax.set_ylim(0, 1.05)\n",
        "\n",
        "if forest_vals:\n",
        "    ax.plot(angles, forest_vals, linewidth=2, linestyle='-', label='Forest')\n",
        "    ax.fill(angles, forest_vals, alpha=0.15)\n",
        "\n",
        "if grass_vals:\n",
        "    ax.plot(angles, grass_vals, linewidth=2, linestyle='--', label='Grassland')\n",
        "    ax.fill(angles, grass_vals, alpha=0.10)\n",
        "\n",
        "plt.title('Radar Comparison of Key Metrics: Forest vs Grassland', pad=20)\n",
        "plt.legend(loc='upper right', bbox_to_anchor=(1.25, 1.10))\n",
        "plt.tight_layout()\n",
        "plt.show()\n",
        "\n",
        "# ----------------------------------------------------------------------------------------------\n",
        "# Reading tip:\n",
        "# • All spokes are scaled 0–1. Higher values mean higher average/percentage for that metric.\n",
        "# • “Avg Bird Count” is rescaled by the max across habitats so it’s comparable on the same axes.\n"
      ],
      "metadata": {
        "id": "jUSFZgpDhp50"
      },
      "execution_count": null,
      "outputs": []
    },
    {
      "cell_type": "markdown",
      "source": [
        "##### 1. Why did you pick the specific chart?"
      ],
      "metadata": {
        "id": "E6MkPsBcp1cl"
      }
    },
    {
      "cell_type": "markdown",
      "source": [
        "Answer Here-I chose this radar chart because it allows for a multi-metric visual comparison between forest and grassland habitats in a single view. It clearly highlights strengths and differences across various bird activity metrics, making it easy to identify habitat-specific trends that may not be apparent in individual charts."
      ],
      "metadata": {
        "id": "V22bRsFWp1cl"
      }
    },
    {
      "cell_type": "markdown",
      "source": [
        "##### 2. What is/are the insight(s) found from the chart?"
      ],
      "metadata": {
        "id": "2cELzS2fp1cl"
      }
    },
    {
      "cell_type": "markdown",
      "source": [
        "Answer Here-Forest habitats have a slightly higher Average Bird Count and % Calling.\n",
        "Grasslands show slightly higher % Visualization and % Flyover, likely due to open terrain.\n",
        "% Singing is similar for both habitats, suggesting that vocal detection rates are consistent regardless of habitat type.\n",
        "% ≤50m Distance is higher in forests, indicating closer proximity detections there."
      ],
      "metadata": {
        "id": "ozQPc2_Ip1cl"
      }
    },
    {
      "cell_type": "markdown",
      "source": [
        "##### 3. Will the gained insights help creating a positive business impact?\n",
        "Are there any insights that lead to negative growth? Justify with specific reason."
      ],
      "metadata": {
        "id": "3MPXvC8up1cl"
      }
    },
    {
      "cell_type": "markdown",
      "source": [
        "Answer Here-Yes. These insights can guide habitat-specific survey planning, optimize resource allocation for bird monitoring, and support targeted conservation efforts — which can improve efficiency and impact in ecological projects.\n",
        "Are there any insights that lead to negative growth? Justify with specific reason.\n",
        "No direct indicators of negative growth were observed. However, the slightly lower Average Bird Count in grasslands compared to forests may suggest less dense bird populations there, which could require additional conservation focus to prevent further decline."
      ],
      "metadata": {
        "id": "GL8l1tdLp1cl"
      }
    },
    {
      "cell_type": "markdown",
      "source": [
        "#### Chart - 14 - Correlation Heatmap"
      ],
      "metadata": {
        "id": "NC_X3p0fY2L0"
      }
    },
    {
      "cell_type": "code",
      "source": [
        "# Correlation Heatmap visualization code"
      ],
      "metadata": {
        "id": "xyC9zolEZNRQ"
      },
      "execution_count": null,
      "outputs": []
    },
    {
      "cell_type": "code",
      "source": [
        "# ===== Chart 14 — Correlation Heatmap =====\n",
        "import numpy as np\n",
        "import pandas as pd\n",
        "import matplotlib.pyplot as plt\n",
        "\n",
        "# -------- 1) Build a numeric-only view (coerce safely) --------\n",
        "tmp = df.copy()\n",
        "\n",
        "# Booleans/strings that act like booleans → numeric\n",
        "bool_map = {\n",
        "    True: 1, False: 0,\n",
        "    \"TRUE\": 1, \"FALSE\": 0,\n",
        "    \"True\": 1, \"False\": 0,\n",
        "    \"Yes\": 1, \"No\": 0, \"yes\": 1, \"no\": 0\n",
        "}\n",
        "for col in [\"Flyover_Observed\", \"PIF_Watchlist_Status\", \"Regional_Stewardship_Status\"]:\n",
        "    if col in tmp.columns:\n",
        "        tmp[col] = tmp[col].replace(bool_map)\n",
        "\n",
        "# Distances like \"<= 50 Meters\" → approximate numeric buckets (meters)\n",
        "if \"Distance\" in tmp.columns:\n",
        "    dist_map = {\n",
        "        \"<= 50 Meters\": 25,\n",
        "        \"50 - 100 Meters\": 75,\n",
        "        \"> 100 Meters\": 125\n",
        "    }\n",
        "    tmp[\"Distance_m\"] = tmp[\"Distance\"].map(dist_map)\n",
        "\n",
        "# Times → numeric hour (0–23)\n",
        "for tcol in [\"Start_Time\", \"End_Time\"]:\n",
        "    if tcol in tmp.columns:\n",
        "        tmp[tcol] = pd.to_datetime(tmp[tcol], errors=\"coerce\")\n",
        "        tmp[tcol + \"_Hour\"] = tmp[tcol].dt.hour\n",
        "\n",
        "# Coerce selected likely-numeric columns\n",
        "likely_numeric = [\n",
        "    \"Year\", \"Temperature\", \"Humidity\", \"Wind\",\n",
        "    \"AcceptedTSN\", \"NPSTaxonCode\", \"TaxonCode\",\n",
        "    \"Previously_Obs\", \"Initial_Three_Min_Cnt\",\n",
        "    \"Distance_m\", \"Start_Time_Hour\", \"End_Time_Hour\"\n",
        "]\n",
        "present = [c for c in likely_numeric if c in tmp.columns]\n",
        "tmp[present] = tmp[present].apply(pd.to_numeric, errors=\"coerce\")\n",
        "\n",
        "# Optionally, add simple encodings for a couple of categorical fields (if you want them correlated)\n",
        "# Example: ID_Method, Location_Type → one-hot then include means via numeric aggregation (optional)\n",
        "# Skipping one-hot here to keep the heatmap focused and readable.\n",
        "\n",
        "num_df = tmp[present].copy()\n",
        "\n",
        "# Drop all-empty columns (in case some weren’t present/coercible)\n",
        "num_df = num_df.dropna(axis=1, how=\"all\")\n",
        "\n",
        "# If everything is NaN (rare), bail gracefully\n",
        "if num_df.shape[1] < 2:\n",
        "    print(\"Not enough numeric columns to compute a correlation matrix.\")\n",
        "else:\n",
        "    # -------- 2) Correlation --------\n",
        "    corr = num_df.corr()\n",
        "\n",
        "    # -------- 3) Plot (Matplotlib only, no custom colors) --------\n",
        "    fig, ax = plt.subplots(figsize=(9, 7))\n",
        "    im = ax.imshow(corr, aspect=\"auto\")  # default colormap\n",
        "\n",
        "    # Axes ticks and labels\n",
        "    ax.set_xticks(np.arange(corr.shape[1]))\n",
        "    ax.set_yticks(np.arange(corr.shape[0]))\n",
        "    ax.set_xticklabels(corr.columns, rotation=45, ha=\"right\")\n",
        "    ax.set_yticklabels(corr.index)\n",
        "\n",
        "    # Colorbar\n",
        "    cbar = plt.colorbar(im, ax=ax)\n",
        "    cbar.set_label(\"Pearson correlation\", rotation=90)\n",
        "\n",
        "    ax.set_title(\"Correlation Heatmap (numeric features)\")\n",
        "    fig.tight_layout()\n",
        "    plt.show()\n"
      ],
      "metadata": {
        "id": "p-MkidoIj97m"
      },
      "execution_count": null,
      "outputs": []
    },
    {
      "cell_type": "markdown",
      "source": [
        "##### 1. Why did you pick the specific chart?"
      ],
      "metadata": {
        "id": "UV0SzAkaZNRQ"
      }
    },
    {
      "cell_type": "markdown",
      "source": [
        "Answer Here-I chose the correlation heatmap because it is one of the most effective ways to quickly identify relationships between multiple numeric variables in the dataset. It visually highlights both strong and weak correlations, making it easier to decide which variables may influence each other and guide further analysis or feature selection."
      ],
      "metadata": {
        "id": "DVPuT8LYZNRQ"
      }
    },
    {
      "cell_type": "markdown",
      "source": [
        "##### 2. What is/are the insight(s) found from the chart?"
      ],
      "metadata": {
        "id": "YPEH6qLeZNRQ"
      }
    },
    {
      "cell_type": "markdown",
      "source": [
        "Answer Here-Temperature and Humidity show a slight negative correlation, meaning as one increases, the other tends to decrease.\n",
        "AcceptedTSN and NPSTaxonCode have a strong positive correlation, suggesting they represent closely related classification attributes.\n",
        "Most other numeric features show weak correlations with each other, indicating they capture largely independent aspects of the data."
      ],
      "metadata": {
        "id": "bfSqtnDqZNRR"
      }
    },
    {
      "cell_type": "markdown",
      "source": [
        "#### Chart - 15 - Pair Plot"
      ],
      "metadata": {
        "id": "q29F0dvdveiT"
      }
    },
    {
      "cell_type": "code",
      "source": [
        "# Pair Plot visualization code"
      ],
      "metadata": {
        "id": "o58-TEIhveiU"
      },
      "execution_count": null,
      "outputs": []
    },
    {
      "cell_type": "code",
      "source": [
        "import seaborn as sns\n",
        "import matplotlib.pyplot as plt\n",
        "\n",
        "# Check available columns\n",
        "print(df.columns)\n",
        "\n",
        "# Select numeric columns that exist in the dataset\n",
        "numeric_cols = ['Temperature', 'Humidity', 'Initial_Three_Min_Cnt',\n",
        "                'AcceptedTSN', 'NPSTaxonCode', 'TaxonCode']  # Adjusted list\n",
        "\n",
        "# Create the pair plot\n",
        "sns.pairplot(data=df[numeric_cols], diag_kind='kde', plot_kws={'alpha': 0.6})\n",
        "\n",
        "# Add a title\n",
        "plt.suptitle(\"Pair Plot of Selected Numeric Features\", y=1.02, fontsize=14)\n",
        "plt.show()\n",
        "\n"
      ],
      "metadata": {
        "id": "SrLYhu75l_pf"
      },
      "execution_count": null,
      "outputs": []
    },
    {
      "cell_type": "markdown",
      "source": [
        "##### 1. Why did you pick the specific chart?"
      ],
      "metadata": {
        "id": "EXh0U9oCveiU"
      }
    },
    {
      "cell_type": "markdown",
      "source": [
        "Answer Here-I chose the pair plot because it allows simultaneous visualization of relationships between multiple numeric variables. It provides both scatter plots for pairwise relationships and distribution plots for individual features, helping detect trends, correlations, and outliers in one view."
      ],
      "metadata": {
        "id": "eMmPjTByveiU"
      }
    },
    {
      "cell_type": "markdown",
      "source": [
        "##### 2. What is/are the insight(s) found from the chart?"
      ],
      "metadata": {
        "id": "22aHeOlLveiV"
      }
    },
    {
      "cell_type": "markdown",
      "source": [
        "Answer Here-Temperature and humidity appear to have a negative relationship — as temperature increases, humidity generally decreases.\n",
        "Most numeric variables like AcceptedTSN, NPSTaxonCode, and TaxonCode have very discrete clustered values, suggesting categorical-like codes rather than continuous measurements.\n",
        "The Initial_Three_Min_Cnt is heavily skewed towards zero, indicating lower bird counts in most observations."
      ],
      "metadata": {
        "id": "uPQ8RGwHveiV"
      }
    },
    {
      "cell_type": "markdown",
      "source": [
        "## **5. Solution to Business Objective**"
      ],
      "metadata": {
        "id": "JcMwzZxoAimU"
      }
    },
    {
      "cell_type": "markdown",
      "source": [
        "#### What do you suggest the client to achieve Business Objective ?\n",
        "Explain Briefly."
      ],
      "metadata": {
        "id": "8G2x9gOozGDZ"
      }
    },
    {
      "cell_type": "markdown",
      "source": [
        "Answer Here-Briefly, the analysis shows that most bird activity data comes from a few top observers, so focusing on training and retaining them can improve results. Forest habitats generally show higher bird counts and closer sightings, so conservation efforts there may yield better outcomes. Timing observations during peak hours can increase valuable data collection, and considering environmental factors like temperature and humidity in analysis can enhance prediction accuracy. Finally, standardizing observation methods across all observers will improve data consistency and reliability."
      ],
      "metadata": {
        "id": "pASKb0qOza21"
      }
    },
    {
      "cell_type": "markdown",
      "source": [
        "# **Conclusion**"
      ],
      "metadata": {
        "id": "gCX9965dhzqZ"
      }
    },
    {
      "cell_type": "markdown",
      "source": [
        "Write the conclusion here-The analysis reveals that bird activity is heavily influenced by a few top contributors, with Elizabeth Oswald, Kimberly Serno, and Brian Swimelar playing a major role in total observations. Forest habitats generally show higher bird counts, closer distances, and richer activity types compared to grasslands, making them key focus areas for conservation and monitoring. Observation patterns also suggest that aligning survey timings with peak activity hours can significantly improve data capture. Environmental factors such as temperature and humidity show measurable correlations with bird activity, indicating their importance in predicting and understanding trends. By focusing on skilled observers, optimizing observation timing, prioritizing high-activity habitats, and standardizing data collection methods, the client can achieve more accurate insights, support targeted conservation efforts, and enhance long-term ecological monitoring."
      ],
      "metadata": {
        "id": "Fjb1IsQkh3yE"
      }
    },
    {
      "cell_type": "markdown",
      "source": [
        "### ***Hurrah! You have successfully completed your EDA Capstone Project !!!***"
      ],
      "metadata": {
        "id": "gIfDvo9L0UH2"
      }
    },
    {
      "cell_type": "code",
      "source": [],
      "metadata": {
        "id": "dYX880etpL0x"
      },
      "execution_count": null,
      "outputs": []
    },
    {
      "cell_type": "code",
      "source": [],
      "metadata": {
        "id": "-6Vl263upPVI"
      },
      "execution_count": null,
      "outputs": []
    }
  ]
}